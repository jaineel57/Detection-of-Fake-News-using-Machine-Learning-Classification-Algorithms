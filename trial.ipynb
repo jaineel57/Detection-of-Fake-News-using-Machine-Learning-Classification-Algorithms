{
 "cells": [
  {
   "cell_type": "code",
   "execution_count": 1,
   "id": "excited-daily",
   "metadata": {},
   "outputs": [],
   "source": [
    "import numpy as np\n",
    "import pandas as pd\n",
    "import csv\n",
    "import nltk\n",
    "from nltk.stem import SnowballStemmer\n",
    "from nltk.stem.porter import PorterStemmer\n",
    "from nltk.tokenize import word_tokenize\n",
    "import seaborn as sb\n",
    "import matplotlib.pyplot as plt"
   ]
  },
  {
   "cell_type": "code",
   "execution_count": 2,
   "id": "familiar-funds",
   "metadata": {},
   "outputs": [],
   "source": [
    "filename_test = 'test1.csv'\n",
    "filename_train = 'train1.csv'\n",
    "filename_valid = 'valid1.csv'"
   ]
  },
  {
   "cell_type": "code",
   "execution_count": 3,
   "id": "dated-ordinance",
   "metadata": {},
   "outputs": [],
   "source": [
    "train_news = pd.read_csv(filename_train)\n",
    "test_news = pd.read_csv(filename_test)\n",
    "valid_news = pd.read_csv(filename_valid)"
   ]
  },
  {
   "cell_type": "code",
   "execution_count": 4,
   "id": "mechanical-postcard",
   "metadata": {},
   "outputs": [],
   "source": [
    "def data_observed():\n",
    "    print(\" The size of training data : \")\n",
    "    print(train_news.shape)\n",
    "    print(train_news.head(10))\n",
    "    \n",
    "    print(test_news.shape)\n",
    "    print(test_news.head(10))\n",
    "    \n",
    "    print(valid_news.shape)\n",
    "    print(valid_news.head(10))"
   ]
  },
  {
   "cell_type": "code",
   "execution_count": 5,
   "id": "advisory-linux",
   "metadata": {},
   "outputs": [],
   "source": [
    "def plot_creation(datafile):\n",
    "    return sb.countplot(x = 'Label', data=datafile, palette='hls')"
   ]
  },
  {
   "cell_type": "code",
   "execution_count": 6,
   "id": "swiss-sigma",
   "metadata": {},
   "outputs": [
    {
     "data": {
      "text/plain": [
       "<AxesSubplot:xlabel='Label', ylabel='count'>"
      ]
     },
     "execution_count": 6,
     "metadata": {},
     "output_type": "execute_result"
    },
    {
     "data": {
      "image/png": "[encoded data removed]",
      "text/plain": [
       "<Figure size 432x288 with 1 Axes>"
      ]
     },
     "metadata": {
      "needs_background": "light"
     },
     "output_type": "display_data"
    }
   ],
   "source": [
    "plot_creation(train_news)"
   ]
  },
  {
   "cell_type": "code",
   "execution_count": 7,
   "id": "arabic-quality",
   "metadata": {},
   "outputs": [
    {
     "data": {
      "text/plain": [
       "<AxesSubplot:xlabel='Label', ylabel='count'>"
      ]
     },
     "execution_count": 7,
     "metadata": {},
     "output_type": "execute_result"
    },
    {
     "data": {
      "image/png": "[encoded data removed]",
      "text/plain": [
       "<Figure size 432x288 with 1 Axes>"
      ]
     },
     "metadata": {
      "needs_background": "light"
     },
     "output_type": "display_data"
    }
   ],
   "source": [
    "plot_creation(test_news)"
   ]
  },
  {
   "cell_type": "code",
   "execution_count": 8,
   "id": "steady-professor",
   "metadata": {},
   "outputs": [
    {
     "data": {
      "text/plain": [
       "<AxesSubplot:xlabel='Label', ylabel='count'>"
      ]
     },
     "execution_count": 8,
     "metadata": {},
     "output_type": "execute_result"
    },
    {
     "data": {
      "image/png": "[encoded data removed]",
      "text/plain": [
       "<Figure size 432x288 with 1 Axes>"
      ]
     },
     "metadata": {
      "needs_background": "light"
     },
     "output_type": "display_data"
    }
   ],
   "source": [
    "plot_creation(valid_news)"
   ]
  },
  {
   "cell_type": "code",
   "execution_count": 9,
   "id": "backed-institution",
   "metadata": {},
   "outputs": [],
   "source": [
    "def QualityCheck():\n",
    "    print(\"The quality of the dataset to be checked\")\n",
    "    train_news.isnull().sum()\n",
    "    train_news.info()\n",
    "    \n",
    "    print('Check done')\n",
    "    \n",
    "    test_news.isnull().sum()\n",
    "    test_news.info()\n",
    "    \n",
    "    valid_news.isnull().sum()\n",
    "    valid_news.info()"
   ]
  },
  {
   "cell_type": "code",
   "execution_count": 10,
   "id": "tutorial-essay",
   "metadata": {},
   "outputs": [],
   "source": [
    "def StemTokens(tokens, stemmer):\n",
    "    stemmed = []\n",
    "    for token in tokens:\n",
    "        stemmed.append(stemmer.stem(token))\n",
    "    return stemmed"
   ]
  },
  {
   "cell_type": "code",
   "execution_count": 11,
   "id": "professional-front",
   "metadata": {},
   "outputs": [],
   "source": [
    "def ProcessData(data,exclude_stopword=True, stem=True):\n",
    "    tokens = [k.lower() for k in data]\n",
    "    tokens_stemmed = tokens\n",
    "    tokens_stemmed = stem_tokens(tokens, eng_stemmer)\n",
    "    tokens_stemmed = [k for k in tokens_stemmed if k not in stopwords]\n",
    "    return tokens_stemmed"
   ]
  },
  {
   "cell_type": "code",
   "execution_count": 12,
   "id": "bacterial-monaco",
   "metadata": {},
   "outputs": [],
   "source": [
    "def CreateUnigram(words):\n",
    "    assert type(words) == list\n",
    "    return words"
   ]
  },
  {
   "cell_type": "code",
   "execution_count": 13,
   "id": "fuzzy-contract",
   "metadata": {},
   "outputs": [],
   "source": [
    "def CreateBigrams(words):\n",
    "    assert type(words) == list\n",
    "    skip = 0\n",
    "    join_str = ' '\n",
    "    l = len(words)\n",
    "    if(l>1):\n",
    "        list1 = []\n",
    "        for i in range(l-1):\n",
    "            for k in range(1,skip+2):\n",
    "                if(i+k < l):\n",
    "                    list1.append(join_str.join([words[i],words[i+k]]))\n",
    "    else:\n",
    "        list1 = CreateUnigram(words)\n",
    "    return list1"
   ]
  },
  {
   "cell_type": "code",
   "execution_count": 14,
   "id": "stunning-monitor",
   "metadata": {},
   "outputs": [],
   "source": [
    "porter  = PorterStemmer()\n",
    "\n",
    "def tokenizer(text):\n",
    "    return text.split()\n",
    "\n",
    "def tokenizer_porter(text):\n",
    "    return [porter.stem(word) for word in text.split()]"
   ]
  },
  {
   "cell_type": "code",
   "execution_count": 15,
   "id": "coastal-portrait",
   "metadata": {},
   "outputs": [],
   "source": [
    "from sklearn.feature_extraction.text import CountVectorizer\n",
    "countv = CountVectorizer()"
   ]
  },
  {
   "cell_type": "code",
   "execution_count": 16,
   "id": "animal-flash",
   "metadata": {},
   "outputs": [],
   "source": [
    "train_count_subject = countv.fit_transform(train_news['subject'].values.astype('U'))"
   ]
  },
  {
   "cell_type": "code",
   "execution_count": 17,
   "id": "public-killing",
   "metadata": {},
   "outputs": [],
   "source": [
    "from sklearn.feature_extraction.text import TfidfTransformer\n",
    "from sklearn.feature_extraction.text import TfidfVectorizer\n",
    "from sklearn.pipeline import Pipeline\n",
    "import nltk\n",
    "import nltk.corpus\n",
    "from nltk.tokenize import word_tokenize\n",
    "from gensim.models.word2vec import Word2Vec"
   ]
  },
  {
   "cell_type": "code",
   "execution_count": 18,
   "id": "periodic-validity",
   "metadata": {},
   "outputs": [],
   "source": [
    "train_count = countv.fit_transform(train_news['Statement'].values)"
   ]
  },
  {
   "cell_type": "code",
   "execution_count": 19,
   "id": "progressive-billion",
   "metadata": {},
   "outputs": [
    {
     "name": "stdout",
     "output_type": "stream",
     "text": [
      "CountVectorizer()\n"
     ]
    }
   ],
   "source": [
    "print(countv)"
   ]
  },
  {
   "cell_type": "code",
   "execution_count": 20,
   "id": "stupid-lending",
   "metadata": {},
   "outputs": [
    {
     "name": "stdout",
     "output_type": "stream",
     "text": [
      "  (0, 9676)\t1\n",
      "  (0, 10988)\t1\n",
      "  (0, 1044)\t1\n",
      "  (0, 6639)\t1\n",
      "  (0, 8376)\t1\n",
      "  (0, 5115)\t1\n",
      "  (0, 10709)\t1\n",
      "  (0, 11036)\t1\n",
      "  (0, 11296)\t1\n",
      "  (0, 615)\t1\n",
      "  (0, 7728)\t1\n",
      "  (0, 3278)\t1\n",
      "  (1, 10988)\t1\n",
      "  (1, 11934)\t2\n",
      "  (1, 3434)\t1\n",
      "  (1, 3185)\t1\n",
      "  (1, 7672)\t1\n",
      "  (1, 2475)\t1\n",
      "  (1, 10425)\t1\n",
      "  (1, 6052)\t1\n",
      "  (1, 10426)\t2\n",
      "  (1, 7418)\t1\n",
      "  (1, 4860)\t1\n",
      "  (1, 11138)\t1\n",
      "  (1, 7674)\t1\n",
      "  :\t:\n",
      "  (10239, 10988)\t1\n",
      "  (10239, 7672)\t2\n",
      "  (10239, 11110)\t2\n",
      "  (10239, 5267)\t1\n",
      "  (10239, 7828)\t1\n",
      "  (10239, 7824)\t1\n",
      "  (10239, 1159)\t1\n",
      "  (10239, 12151)\t2\n",
      "  (10239, 6327)\t1\n",
      "  (10239, 6603)\t1\n",
      "  (10239, 11013)\t1\n",
      "  (10239, 11004)\t1\n",
      "  (10239, 3309)\t1\n",
      "  (10239, 12158)\t1\n",
      "  (10239, 11660)\t2\n",
      "  (10239, 799)\t1\n",
      "  (10239, 2568)\t1\n",
      "  (10239, 11622)\t1\n",
      "  (10239, 2549)\t1\n",
      "  (10239, 10660)\t1\n",
      "  (10239, 8996)\t1\n",
      "  (10239, 10918)\t1\n",
      "  (10239, 3989)\t1\n",
      "  (10239, 10594)\t1\n",
      "  (10239, 6853)\t1\n"
     ]
    }
   ],
   "source": [
    "print(train_count)"
   ]
  },
  {
   "cell_type": "code",
   "execution_count": 21,
   "id": "higher-turtle",
   "metadata": {},
   "outputs": [
    {
     "name": "stdout",
     "output_type": "stream",
     "text": [
      "  (0, 4)\t1\n",
      "  (1, 61)\t1\n",
      "  (1, 82)\t1\n",
      "  (1, 95)\t1\n",
      "  (1, 5)\t1\n",
      "  (2, 74)\t1\n",
      "  (2, 123)\t1\n",
      "  (3, 81)\t1\n",
      "  (3, 28)\t1\n",
      "  (4, 57)\t1\n",
      "  (4, 96)\t1\n",
      "  (5, 58)\t1\n",
      "  (6, 26)\t1\n",
      "  (6, 19)\t1\n",
      "  (7, 63)\t1\n",
      "  (8, 96)\t1\n",
      "  (9, 61)\t1\n",
      "  (9, 109)\t1\n",
      "  (9, 103)\t1\n",
      "  (9, 2)\t1\n",
      "  (9, 170)\t1\n",
      "  (9, 132)\t1\n",
      "  (10, 60)\t1\n",
      "  (11, 57)\t1\n",
      "  (11, 96)\t1\n",
      "  :\t:\n",
      "  (10231, 152)\t1\n",
      "  (10231, 22)\t1\n",
      "  (10232, 57)\t1\n",
      "  (10232, 96)\t1\n",
      "  (10233, 58)\t1\n",
      "  (10233, 152)\t1\n",
      "  (10233, 22)\t2\n",
      "  (10233, 158)\t1\n",
      "  (10233, 34)\t1\n",
      "  (10233, 51)\t1\n",
      "  (10233, 32)\t1\n",
      "  (10234, 60)\t1\n",
      "  (10234, 41)\t1\n",
      "  (10235, 60)\t1\n",
      "  (10235, 14)\t1\n",
      "  (10236, 60)\t1\n",
      "  (10237, 143)\t1\n",
      "  (10237, 147)\t1\n",
      "  (10237, 138)\t1\n",
      "  (10238, 74)\t1\n",
      "  (10238, 123)\t1\n",
      "  (10238, 72)\t1\n",
      "  (10239, 81)\t1\n",
      "  (10239, 28)\t1\n",
      "  (10239, 169)\t1\n"
     ]
    }
   ],
   "source": [
    "print(train_count_subject)"
   ]
  },
  {
   "cell_type": "code",
   "execution_count": 22,
   "id": "fourth-duplicate",
   "metadata": {},
   "outputs": [],
   "source": [
    "def GetCountVectorizerStats():\n",
    "    train_count.shape\n",
    "    print(countv.vocabulary_)\n",
    "    print(countv.get_feature_names()[:25])"
   ]
  },
  {
   "cell_type": "code",
   "execution_count": 23,
   "id": "ranging-range",
   "metadata": {},
   "outputs": [],
   "source": [
    "tfidfv = TfidfTransformer()"
   ]
  },
  {
   "cell_type": "code",
   "execution_count": 24,
   "id": "certain-typing",
   "metadata": {},
   "outputs": [],
   "source": [
    "train_tfidf = tfidfv.fit_transform(train_count)"
   ]
  },
  {
   "cell_type": "code",
   "execution_count": 25,
   "id": "rational-discipline",
   "metadata": {},
   "outputs": [],
   "source": [
    "train_tfidf_subject = tfidfv.fit_transform(train_count_subject)"
   ]
  },
  {
   "cell_type": "code",
   "execution_count": 26,
   "id": "anonymous-eagle",
   "metadata": {},
   "outputs": [],
   "source": [
    "def GetTfidfStats():\n",
    "    train_tfidf.shape\n",
    "    print(train_tfidf.A[:10])"
   ]
  },
  {
   "cell_type": "code",
   "execution_count": 27,
   "id": "mathematical-slide",
   "metadata": {},
   "outputs": [],
   "source": [
    "tfidf_ngram = TfidfVectorizer(stop_words='english',ngram_range=(1,4),use_idf=True,smooth_idf=True)"
   ]
  },
  {
   "cell_type": "code",
   "execution_count": 28,
   "id": "dated-stomach",
   "metadata": {},
   "outputs": [],
   "source": [
    "tagged_sentences = nltk.corpus.treebank.tagged_sents()\n",
    "cutoff = int(.75 * len(tagged_sentences))"
   ]
  },
  {
   "cell_type": "code",
   "execution_count": 29,
   "id": "empty-davis",
   "metadata": {},
   "outputs": [],
   "source": [
    "training_sentences = train_news['Statement']"
   ]
  },
  {
   "cell_type": "code",
   "execution_count": 30,
   "id": "willing-class",
   "metadata": {},
   "outputs": [],
   "source": [
    "training_sentences_subject = train_news['subject']"
   ]
  },
  {
   "cell_type": "code",
   "execution_count": 31,
   "id": "complicated-saying",
   "metadata": {},
   "outputs": [
    {
     "name": "stdout",
     "output_type": "stream",
     "text": [
      "0        Says the Annies List political group supports ...\n",
      "1        When did the decline of coal start? It started...\n",
      "2        Hillary Clinton agrees with John McCain \"by vo...\n",
      "3        Health care reform legislation is likely to ma...\n",
      "4        The economic turnaround started at the end of ...\n",
      "                               ...                        \n",
      "10235    There are a larger number of shark attacks in ...\n",
      "10236    Democrats have now become the party of the [At...\n",
      "10237    Says an alternative to Social Security that op...\n",
      "10238    On lifting the U.S. Cuban embargo and allowing...\n",
      "10239    The Department of Veterans Affairs has a manua...\n",
      "Name: Statement, Length: 10240, dtype: object\n"
     ]
    }
   ],
   "source": [
    "print(training_sentences)"
   ]
  },
  {
   "cell_type": "code",
   "execution_count": 32,
   "id": "consistent-fantasy",
   "metadata": {},
   "outputs": [
    {
     "name": "stdout",
     "output_type": "stream",
     "text": [
      "0                                  abortion\n",
      "1        energy,history,job-accomplishments\n",
      "2                            foreign-policy\n",
      "3                               health-care\n",
      "4                              economy,jobs\n",
      "                        ...                \n",
      "10235                     animals,elections\n",
      "10236                             elections\n",
      "10237            retirement,social-security\n",
      "10238                florida,foreign-policy\n",
      "10239                  health-care,veterans\n",
      "Name: subject, Length: 10240, dtype: object\n"
     ]
    }
   ],
   "source": [
    "print(training_sentences_subject)"
   ]
  },
  {
   "cell_type": "code",
   "execution_count": 33,
   "id": "continent-click",
   "metadata": {},
   "outputs": [],
   "source": [
    "def features(sentence, index):\n",
    "    \"\"\" sentence: [w1, w2, ...], index: the index of the word \"\"\"\n",
    "    return {\n",
    "        'word': sentence[index],\n",
    "        'is_first': index == 0,\n",
    "        'is_last': index == len(sentence) - 1,\n",
    "        'is_capitalized': sentence[index][0].upper() == sentence[index][0],\n",
    "        'is_all_caps': sentence[index].upper() == sentence[index],\n",
    "        'is_all_lower': sentence[index].lower() == sentence[index],\n",
    "        'prefix-1': sentence[index][0],\n",
    "        'prefix-2': sentence[index][:2],\n",
    "        'prefix-3': sentence[index][:3],\n",
    "        'suffix-1': sentence[index][-1],\n",
    "        'suffix-2': sentence[index][-2:],\n",
    "        'suffix-3': sentence[index][-3:],\n",
    "        'prev_word': '' if index == 0 else sentence[index - 1],\n",
    "        'next_word': '' if index == len(sentence) - 1 else sentence[index + 1],\n",
    "        'has_hyphen': '-' in sentence[index],\n",
    "        'is_numeric': sentence[index].isdigit(),\n",
    "        'capitals_inside': sentence[index][1:].lower() != sentence[index][1:]\n",
    "    }"
   ]
  },
  {
   "cell_type": "code",
   "execution_count": 34,
   "id": "unsigned-thickness",
   "metadata": {},
   "outputs": [],
   "source": [
    "def untag(tagged_sentence):\n",
    "    return [w for w, t in tagged_sentence]"
   ]
  },
  {
   "cell_type": "code",
   "execution_count": 35,
   "id": "collaborative-shirt",
   "metadata": {},
   "outputs": [],
   "source": [
    "with open(\"glove.6B.50d.txt\", \"rb\") as lines:\n",
    "    w2v = {line.split()[0]: np.array(map(float, line.split()[1:]))\n",
    "           for line in lines}"
   ]
  },
  {
   "cell_type": "code",
   "execution_count": 36,
   "id": "innocent-parameter",
   "metadata": {},
   "outputs": [],
   "source": [
    "class MeanEmbeddingVectorizer(object):\n",
    "    def __init__(self, word2vec):\n",
    "        self.word2vec = word2vec\n",
    "        # if a text is empty we should return a vector of zeros\n",
    "        # with the same dimensionality as all the other vectors\n",
    "        self.dim = len(word2vec.itervalues().next())\n",
    "\n",
    "    def fit(self, X, y):\n",
    "        return self\n",
    "\n",
    "    def transform(self, X):\n",
    "        return np.array([\n",
    "            np.mean([self.word2vec[w] for w in words if w in self.word2vec]\n",
    "                    or [np.zeros(self.dim)], axis=0)\n",
    "            for words in X\n",
    "        ])"
   ]
  },
  {
   "cell_type": "code",
   "execution_count": 37,
   "id": "optimum-granny",
   "metadata": {},
   "outputs": [],
   "source": [
    "import numpy as np\n",
    "import pandas as pd\n",
    "import pickle\n",
    "from sklearn.feature_extraction.text import CountVectorizer\n",
    "from sklearn.feature_extraction.text import TfidfTransformer\n",
    "from sklearn.feature_extraction.text import TfidfVectorizer\n",
    "from sklearn.pipeline import Pipeline\n",
    "from sklearn.naive_bayes import MultinomialNB\n",
    "from sklearn.linear_model import  LogisticRegression\n",
    "from sklearn.model_selection import KFold\n",
    "from sklearn.metrics import confusion_matrix, f1_score, classification_report\n",
    "from sklearn.model_selection import GridSearchCV\n",
    "from sklearn.model_selection import learning_curve\n",
    "import matplotlib.pyplot as plt\n",
    "from sklearn.metrics import precision_recall_curve\n",
    "from sklearn.metrics import average_precision_score\n",
    "from sklearn.preprocessing import OneHotEncoder"
   ]
  },
  {
   "cell_type": "code",
   "execution_count": 38,
   "id": "headed-garbage",
   "metadata": {},
   "outputs": [],
   "source": [
    "nb_pipeline = Pipeline([\n",
    "        ('NBCV',countv),\n",
    "        ('nb_clf',MultinomialNB())])\n",
    "train_news['subject'] = train_news['subject'].values.astype('U')"
   ]
  },
  {
   "cell_type": "code",
   "execution_count": 39,
   "id": "matched-protest",
   "metadata": {},
   "outputs": [
    {
     "data": {
      "text/plain": [
       "Pipeline(steps=[('NBCV', CountVectorizer()), ('nb_clf', MultinomialNB())])"
      ]
     },
     "execution_count": 39,
     "metadata": {},
     "output_type": "execute_result"
    }
   ],
   "source": [
    "nb_pipeline.fit(train_news['subject'],train_news['Label'])"
   ]
  },
  {
   "cell_type": "code",
   "execution_count": 40,
   "id": "amazing-equation",
   "metadata": {},
   "outputs": [],
   "source": [
    "predicted_nb = nb_pipeline.predict(test_news['subject'].values.astype('U'))"
   ]
  },
  {
   "cell_type": "code",
   "execution_count": 41,
   "id": "collect-reporter",
   "metadata": {},
   "outputs": [
    {
     "data": {
      "text/plain": [
       "0.5331242649941199"
      ]
     },
     "execution_count": 41,
     "metadata": {},
     "output_type": "execute_result"
    }
   ],
   "source": [
    "np.mean(predicted_nb == test_news['Label'])"
   ]
  },
  {
   "cell_type": "code",
   "execution_count": 42,
   "id": "graphic-miller",
   "metadata": {},
   "outputs": [],
   "source": [
    "def build_confusion_matrix(classifier):\n",
    "    \n",
    "    k_fold = KFold(n_splits=5)\n",
    "    scores = []\n",
    "    confusion = np.array([[0,0],[0,0]])\n",
    "\n",
    "    for train_ind, test_ind in k_fold.split(train_news):\n",
    "        train_text = train_news.iloc[train_ind]['subject'] \n",
    "        train_y = train_news.iloc[train_ind]['Label']\n",
    "    \n",
    "        test_text = train_news.iloc[test_ind]['subject']\n",
    "        test_y = train_news.iloc[test_ind]['Label']\n",
    "        \n",
    "        classifier.fit(train_text,train_y)\n",
    "        predictions = classifier.predict(test_text)\n",
    "        \n",
    "        confusion += confusion_matrix(test_y,predictions)\n",
    "        score = f1_score(test_y,predictions)\n",
    "        scores.append(score)\n",
    "    \n",
    "    return (print('Total statements classified:', len(train_news)),\n",
    "    print('Score:', sum(scores)/len(scores)),\n",
    "    print('score length', len(scores)),\n",
    "    print('Confusion matrix:'),\n",
    "    print(confusion))"
   ]
  },
  {
   "cell_type": "code",
   "execution_count": 43,
   "id": "greatest-montreal",
   "metadata": {},
   "outputs": [
    {
     "name": "stdout",
     "output_type": "stream",
     "text": [
      "Total statements classified: 10240\n",
      "Score: 0.6563424214194148\n",
      "score length 5\n",
      "Confusion matrix:\n",
      "[[1578 2910]\n",
      " [1520 4232]]\n"
     ]
    },
    {
     "data": {
      "text/plain": [
       "(None, None, None, None, None)"
      ]
     },
     "execution_count": 43,
     "metadata": {},
     "output_type": "execute_result"
    }
   ],
   "source": [
    "build_confusion_matrix(nb_pipeline)"
   ]
  },
  {
   "cell_type": "code",
   "execution_count": 44,
   "id": "cardiovascular-italian",
   "metadata": {},
   "outputs": [],
   "source": [
    "logR_pipeline = Pipeline([\n",
    "        ('LogRCV',countv),\n",
    "        ('LogR_clf',LogisticRegression())\n",
    "        ])"
   ]
  },
  {
   "cell_type": "code",
   "execution_count": 45,
   "id": "activated-limitation",
   "metadata": {},
   "outputs": [
    {
     "data": {
      "text/plain": [
       "0.537436299490396"
      ]
     },
     "execution_count": 45,
     "metadata": {},
     "output_type": "execute_result"
    }
   ],
   "source": [
    "train_news['subject'] = train_news['subject'].values.astype('U')\n",
    "logR_pipeline.fit(train_news['subject'],train_news['Label'])\n",
    "predicted_LogR = logR_pipeline.predict(test_news['subject'].values.astype('U'))\n",
    "np.mean(predicted_LogR == test_news['Label'])"
   ]
  },
  {
   "cell_type": "code",
   "execution_count": 46,
   "id": "auburn-series",
   "metadata": {},
   "outputs": [
    {
     "name": "stdout",
     "output_type": "stream",
     "text": [
      "Total statements classified: 10240\n",
      "Score: 0.6752173202609347\n",
      "score length 5\n",
      "Confusion matrix:\n",
      "[[1226 3262]\n",
      " [1157 4595]]\n"
     ]
    },
    {
     "data": {
      "text/plain": [
       "(None, None, None, None, None)"
      ]
     },
     "execution_count": 46,
     "metadata": {},
     "output_type": "execute_result"
    }
   ],
   "source": [
    "build_confusion_matrix(logR_pipeline)"
   ]
  },
  {
   "cell_type": "code",
   "execution_count": 47,
   "id": "hazardous-procurement",
   "metadata": {},
   "outputs": [],
   "source": [
    "nb_pipeline_ngram = Pipeline([\n",
    "        ('nb_tfidf',tfidf_ngram),\n",
    "        ('nb_clf',MultinomialNB())])"
   ]
  },
  {
   "cell_type": "code",
   "execution_count": 48,
   "id": "endangered-istanbul",
   "metadata": {},
   "outputs": [
    {
     "data": {
      "text/plain": [
       "0.5343002744021952"
      ]
     },
     "execution_count": 48,
     "metadata": {},
     "output_type": "execute_result"
    }
   ],
   "source": [
    "train_news['subject'] = train_news['subject'].values.astype('U')\n",
    "nb_pipeline_ngram.fit(train_news['subject'],train_news['Label'])\n",
    "predicted_nb_ngram = nb_pipeline_ngram.predict(test_news['subject'].values.astype('U'))\n",
    "np.mean(predicted_nb_ngram == test_news['Label'])"
   ]
  },
  {
   "cell_type": "code",
   "execution_count": 49,
   "id": "equipped-jamaica",
   "metadata": {},
   "outputs": [],
   "source": [
    "logR_pipeline_ngram = Pipeline([\n",
    "        ('LogR_tfidf',tfidf_ngram),\n",
    "        ('LogR_clf',LogisticRegression(penalty=\"l2\",C=1))\n",
    "        ])"
   ]
  },
  {
   "cell_type": "code",
   "execution_count": 50,
   "id": "diagnostic-asthma",
   "metadata": {},
   "outputs": [
    {
     "data": {
      "text/plain": [
       "0.529204233633869"
      ]
     },
     "execution_count": 50,
     "metadata": {},
     "output_type": "execute_result"
    }
   ],
   "source": [
    "train_news['subject'] = train_news['subject'].values.astype('U')\n",
    "logR_pipeline_ngram.fit(train_news['subject'],train_news['Label'])\n",
    "predicted_LogR_ngram = logR_pipeline.predict(test_news['subject'].values.astype('U'))\n",
    "np.mean(predicted_LogR_ngram == test_news['Label'])"
   ]
  },
  {
   "cell_type": "code",
   "execution_count": 51,
   "id": "sunset-martin",
   "metadata": {},
   "outputs": [
    {
     "name": "stdout",
     "output_type": "stream",
     "text": [
      "Total statements classified: 10240\n",
      "Score: 0.6820288737601685\n",
      "score length 5\n",
      "Confusion matrix:\n",
      "[[1162 3326]\n",
      " [1054 4698]]\n"
     ]
    },
    {
     "data": {
      "text/plain": [
       "(None, None, None, None, None)"
      ]
     },
     "execution_count": 51,
     "metadata": {},
     "output_type": "execute_result"
    }
   ],
   "source": [
    "build_confusion_matrix(nb_pipeline_ngram)"
   ]
  },
  {
   "cell_type": "code",
   "execution_count": 52,
   "id": "collected-facing",
   "metadata": {},
   "outputs": [
    {
     "name": "stdout",
     "output_type": "stream",
     "text": [
      "Total statements classified: 10240\n",
      "Score: 0.6611687025390831\n",
      "score length 5\n",
      "Confusion matrix:\n",
      "[[1507 2981]\n",
      " [1439 4313]]\n"
     ]
    },
    {
     "data": {
      "text/plain": [
       "(None, None, None, None, None)"
      ]
     },
     "execution_count": 52,
     "metadata": {},
     "output_type": "execute_result"
    }
   ],
   "source": [
    "build_confusion_matrix(logR_pipeline_ngram)"
   ]
  },
  {
   "cell_type": "code",
   "execution_count": 53,
   "id": "infinite-swimming",
   "metadata": {},
   "outputs": [
    {
     "name": "stdout",
     "output_type": "stream",
     "text": [
      "              precision    recall  f1-score   support\n",
      "\n",
      "       False       0.49      0.66      0.56      1169\n",
      "        True       0.60      0.43      0.50      1382\n",
      "\n",
      "    accuracy                           0.53      2551\n",
      "   macro avg       0.55      0.54      0.53      2551\n",
      "weighted avg       0.55      0.53      0.53      2551\n",
      "\n"
     ]
    }
   ],
   "source": [
    "print(classification_report(test_news['Label'],predicted_nb_ngram))"
   ]
  },
  {
   "cell_type": "code",
   "execution_count": 54,
   "id": "hourly-patio",
   "metadata": {},
   "outputs": [
    {
     "name": "stdout",
     "output_type": "stream",
     "text": [
      "              precision    recall  f1-score   support\n",
      "\n",
      "       False       0.49      0.65      0.56      1169\n",
      "        True       0.59      0.43      0.50      1382\n",
      "\n",
      "    accuracy                           0.53      2551\n",
      "   macro avg       0.54      0.54      0.53      2551\n",
      "weighted avg       0.54      0.53      0.52      2551\n",
      "\n"
     ]
    }
   ],
   "source": [
    "print(classification_report(test_news['Label'],predicted_LogR_ngram))"
   ]
  },
  {
   "cell_type": "code",
   "execution_count": 55,
   "id": "governing-berkeley",
   "metadata": {},
   "outputs": [],
   "source": [
    "from sklearn.model_selection import KFold"
   ]
  },
  {
   "cell_type": "code",
   "execution_count": 56,
   "id": "molecular-excitement",
   "metadata": {},
   "outputs": [],
   "source": [
    "import scikitplot.plotters as skplt"
   ]
  },
  {
   "cell_type": "code",
   "execution_count": 57,
   "id": "internal-toolbox",
   "metadata": {},
   "outputs": [],
   "source": [
    "def plot_confusionMatrix(classifier):\n",
    "    # plotting confusion matrix\n",
    "    k_fold = KFold(n_splits=5)\n",
    "    scores = []\n",
    "    confusion = np.array([[0,0],[0,0]])\n",
    "\n",
    "    for train_ind, test_ind in k_fold.split(train_news):\n",
    "        train_text = train_news.iloc[train_ind]['subject'] \n",
    "        train_y = train_news.iloc[train_ind]['Label']\n",
    "    \n",
    "        test_text = train_news.iloc[test_ind]['subject']\n",
    "        test_y = train_news.iloc[test_ind]['Label']\n",
    "        \n",
    "        classifier.fit(train_text,train_y)\n",
    "        predictions = classifier.predict(test_text)\n",
    "    skplt.plot_confusion_matrix(test_y, predictions)\n",
    "    plt.show()"
   ]
  },
  {
   "cell_type": "code",
   "execution_count": 58,
   "id": "unsigned-neutral",
   "metadata": {},
   "outputs": [
    {
     "name": "stderr",
     "output_type": "stream",
     "text": [
      "/Users/jd/anaconda3/lib/python3.8/site-packages/sklearn/utils/deprecation.py:86: FutureWarning: Function plot_confusion_matrix is deprecated; This will be removed in v0.4.0. Please use scikitplot.metrics.plot_confusion_matrix instead.\n",
      "  warnings.warn(msg, category=FutureWarning)\n"
     ]
    },
    {
     "data": {
      "image/png": "[encoded data removed]",
      "text/plain": [
       "<Figure size 432x288 with 2 Axes>"
      ]
     },
     "metadata": {
      "needs_background": "light"
     },
     "output_type": "display_data"
    }
   ],
   "source": [
    "plot_confusionMatrix(logR_pipeline_ngram)"
   ]
  },
  {
   "cell_type": "code",
   "execution_count": 59,
   "id": "prescription-might",
   "metadata": {},
   "outputs": [
    {
     "name": "stderr",
     "output_type": "stream",
     "text": [
      "/Users/jd/anaconda3/lib/python3.8/site-packages/sklearn/utils/deprecation.py:86: FutureWarning: Function plot_confusion_matrix is deprecated; This will be removed in v0.4.0. Please use scikitplot.metrics.plot_confusion_matrix instead.\n",
      "  warnings.warn(msg, category=FutureWarning)\n"
     ]
    },
    {
     "data": {
      "image/png": "[encoded data removed]",
      "text/plain": [
       "<Figure size 432x288 with 2 Axes>"
      ]
     },
     "metadata": {
      "needs_background": "light"
     },
     "output_type": "display_data"
    }
   ],
   "source": [
    "plot_confusionMatrix(nb_pipeline_ngram)"
   ]
  },
  {
   "cell_type": "code",
   "execution_count": 60,
   "id": "maritime-gallery",
   "metadata": {},
   "outputs": [],
   "source": [
    "from sklearn.model_selection import KFold\n",
    "from sklearn.metrics import confusion_matrix, f1_score, classification_report\n",
    "from sklearn.model_selection import GridSearchCV\n",
    "from sklearn.model_selection import learning_curve\n",
    "import matplotlib.pyplot as plt\n",
    "from sklearn.metrics import precision_recall_curve\n",
    "from sklearn.metrics import average_precision_score"
   ]
  },
  {
   "cell_type": "code",
   "execution_count": 61,
   "id": "differential-desire",
   "metadata": {},
   "outputs": [],
   "source": [
    "from sklearn.linear_model import SGDClassifier\n",
    "from sklearn import svm\n",
    "from sklearn.ensemble import RandomForestClassifier"
   ]
  },
  {
   "cell_type": "code",
   "execution_count": 62,
   "id": "structured-checkout",
   "metadata": {},
   "outputs": [],
   "source": [
    "svm_pipeline = Pipeline([\n",
    "        ('svmCV',countv),\n",
    "        ('svm_clf',svm.LinearSVC())\n",
    "        ])"
   ]
  },
  {
   "cell_type": "code",
   "execution_count": 63,
   "id": "african-minimum",
   "metadata": {},
   "outputs": [
    {
     "data": {
      "text/plain": [
       "0.5382203057624461"
      ]
     },
     "execution_count": 63,
     "metadata": {},
     "output_type": "execute_result"
    }
   ],
   "source": [
    "train_news['subject'] = train_news['subject'].values.astype('U')\n",
    "svm_pipeline.fit(train_news['subject'],train_news['Label'])\n",
    "predicted_svm = svm_pipeline.predict(test_news['subject'].values.astype('U'))\n",
    "np.mean(predicted_svm == test_news['Label'])"
   ]
  },
  {
   "cell_type": "code",
   "execution_count": 64,
   "id": "coordinated-triple",
   "metadata": {},
   "outputs": [],
   "source": [
    "sgd_pipeline = Pipeline([\n",
    "        ('svm2CV',countv),\n",
    "        ('svm2_clf',SGDClassifier(loss='hinge', penalty='l2', alpha=1e-3))\n",
    "        ])"
   ]
  },
  {
   "cell_type": "code",
   "execution_count": 65,
   "id": "agricultural-lender",
   "metadata": {},
   "outputs": [
    {
     "data": {
      "text/plain": [
       "0.5480203841630733"
      ]
     },
     "execution_count": 65,
     "metadata": {},
     "output_type": "execute_result"
    }
   ],
   "source": [
    "train_news['subject'] = train_news['subject'].values.astype('U')\n",
    "sgd_pipeline.fit(train_news['subject'],train_news['Label'])\n",
    "predicted_sgd = sgd_pipeline.predict(test_news['subject'].values.astype('U'))\n",
    "np.mean(predicted_sgd == test_news['Label'])"
   ]
  },
  {
   "cell_type": "code",
   "execution_count": 66,
   "id": "defensive-lease",
   "metadata": {},
   "outputs": [],
   "source": [
    "random_forest = Pipeline([\n",
    "        ('rfCV',countv),\n",
    "        ('rf_clf',RandomForestClassifier(n_estimators=200,n_jobs=3))\n",
    "        ])"
   ]
  },
  {
   "cell_type": "code",
   "execution_count": 67,
   "id": "domestic-vegetable",
   "metadata": {},
   "outputs": [
    {
     "data": {
      "text/plain": [
       "0.5280282242257938"
      ]
     },
     "execution_count": 67,
     "metadata": {},
     "output_type": "execute_result"
    }
   ],
   "source": [
    "train_news['subject'] = train_news['subject'].values.astype('U')\n",
    "random_forest.fit(train_news['subject'],train_news['Label'])\n",
    "predicted_rf = random_forest.predict(test_news['subject'].values.astype('U'))\n",
    "np.mean(predicted_rf == test_news['Label'])"
   ]
  },
  {
   "cell_type": "code",
   "execution_count": 68,
   "id": "asian-specialist",
   "metadata": {},
   "outputs": [
    {
     "name": "stdout",
     "output_type": "stream",
     "text": [
      "Total statements classified: 10240\n",
      "Score: 0.6744182980777914\n",
      "score length 5\n",
      "Confusion matrix:\n",
      "[[1243 3245]\n",
      " [1174 4578]]\n"
     ]
    },
    {
     "data": {
      "text/plain": [
       "(None, None, None, None, None)"
      ]
     },
     "execution_count": 68,
     "metadata": {},
     "output_type": "execute_result"
    }
   ],
   "source": [
    "build_confusion_matrix(svm_pipeline)"
   ]
  },
  {
   "cell_type": "code",
   "execution_count": 69,
   "id": "driven-decimal",
   "metadata": {},
   "outputs": [
    {
     "name": "stdout",
     "output_type": "stream",
     "text": [
      "Total statements classified: 10240\n",
      "Score: 0.6976580791633025\n",
      "score length 5\n",
      "Confusion matrix:\n",
      "[[ 747 3741]\n",
      " [ 666 5086]]\n"
     ]
    },
    {
     "data": {
      "text/plain": [
       "(None, None, None, None, None)"
      ]
     },
     "execution_count": 69,
     "metadata": {},
     "output_type": "execute_result"
    }
   ],
   "source": [
    "build_confusion_matrix(sgd_pipeline)"
   ]
  },
  {
   "cell_type": "code",
   "execution_count": 70,
   "id": "abstract-center",
   "metadata": {},
   "outputs": [
    {
     "name": "stdout",
     "output_type": "stream",
     "text": [
      "Total statements classified: 10240\n",
      "Score: 0.6379328192647182\n",
      "score length 5\n",
      "Confusion matrix:\n",
      "[[1771 2717]\n",
      " [1785 3967]]\n"
     ]
    },
    {
     "data": {
      "text/plain": [
       "(None, None, None, None, None)"
      ]
     },
     "execution_count": 70,
     "metadata": {},
     "output_type": "execute_result"
    }
   ],
   "source": [
    "build_confusion_matrix(random_forest)"
   ]
  },
  {
   "cell_type": "code",
   "execution_count": 71,
   "id": "exciting-pennsylvania",
   "metadata": {},
   "outputs": [],
   "source": [
    "svm_pipeline_ngram = Pipeline([\n",
    "        ('svm_tfidf',tfidf_ngram),\n",
    "        ('svm_clf',svm.LinearSVC())\n",
    "        ])"
   ]
  },
  {
   "cell_type": "code",
   "execution_count": 72,
   "id": "classical-content",
   "metadata": {},
   "outputs": [
    {
     "data": {
      "text/plain": [
       "0.5221481771854175"
      ]
     },
     "execution_count": 72,
     "metadata": {},
     "output_type": "execute_result"
    }
   ],
   "source": [
    "train_news['subject'] = train_news['subject'].values.astype('U')\n",
    "svm_pipeline_ngram.fit(train_news['subject'],train_news['Label'])\n",
    "predicted_svm_ngram = svm_pipeline_ngram.predict(test_news['subject'].values.astype('U'))\n",
    "np.mean(predicted_svm_ngram == test_news['Label'])"
   ]
  },
  {
   "cell_type": "code",
   "execution_count": 73,
   "id": "speaking-matter",
   "metadata": {},
   "outputs": [],
   "source": [
    "sgd_pipeline_ngram = Pipeline([\n",
    "         ('sgd_tfidf',tfidf_ngram),\n",
    "         ('sgd_clf',SGDClassifier(loss='hinge', penalty='l2', alpha=1e-3))\n",
    "         ])"
   ]
  },
  {
   "cell_type": "code",
   "execution_count": 74,
   "id": "growing-reynolds",
   "metadata": {},
   "outputs": [
    {
     "data": {
      "text/plain": [
       "0.5456683653469228"
      ]
     },
     "execution_count": 74,
     "metadata": {},
     "output_type": "execute_result"
    }
   ],
   "source": [
    "train_news['subject'] = train_news['subject'].values.astype('U')\n",
    "sgd_pipeline_ngram.fit(train_news['subject'],train_news['Label'])\n",
    "predicted_sgd_ngram = sgd_pipeline_ngram.predict(test_news['subject'].values.astype('U'))\n",
    "np.mean(predicted_sgd_ngram == test_news['Label'])"
   ]
  },
  {
   "cell_type": "code",
   "execution_count": 75,
   "id": "indian-reliance",
   "metadata": {},
   "outputs": [],
   "source": [
    "random_forest_ngram = Pipeline([\n",
    "        ('rf_tfidf',tfidf_ngram),\n",
    "        ('rf_clf',RandomForestClassifier(n_estimators=300,n_jobs=3))\n",
    "        ])"
   ]
  },
  {
   "cell_type": "code",
   "execution_count": 76,
   "id": "painted-saskatchewan",
   "metadata": {},
   "outputs": [
    {
     "data": {
      "text/plain": [
       "0.5295962367698942"
      ]
     },
     "execution_count": 76,
     "metadata": {},
     "output_type": "execute_result"
    }
   ],
   "source": [
    "train_news['subject'] = train_news['subject'].values.astype('U')\n",
    "random_forest_ngram.fit(train_news['subject'],train_news['Label'])\n",
    "predicted_rf_ngram = random_forest_ngram.predict(test_news['subject'].values.astype('U'))\n",
    "np.mean(predicted_rf_ngram == test_news['Label'])"
   ]
  },
  {
   "cell_type": "code",
   "execution_count": 77,
   "id": "integral-resident",
   "metadata": {},
   "outputs": [
    {
     "name": "stdout",
     "output_type": "stream",
     "text": [
      "Total statements classified: 10240\n",
      "Score: 0.6403281738134995\n",
      "score length 5\n",
      "Confusion matrix:\n",
      "[[1744 2744]\n",
      " [1750 4002]]\n"
     ]
    },
    {
     "data": {
      "text/plain": [
       "(None, None, None, None, None)"
      ]
     },
     "execution_count": 77,
     "metadata": {},
     "output_type": "execute_result"
    }
   ],
   "source": [
    "build_confusion_matrix(svm_pipeline_ngram)"
   ]
  },
  {
   "cell_type": "code",
   "execution_count": 78,
   "id": "nervous-power",
   "metadata": {},
   "outputs": [
    {
     "name": "stdout",
     "output_type": "stream",
     "text": [
      "Total statements classified: 10240\n",
      "Score: 0.7073692710753823\n",
      "score length 5\n",
      "Confusion matrix:\n",
      "[[ 576 3912]\n",
      " [ 463 5289]]\n"
     ]
    },
    {
     "data": {
      "text/plain": [
       "(None, None, None, None, None)"
      ]
     },
     "execution_count": 78,
     "metadata": {},
     "output_type": "execute_result"
    }
   ],
   "source": [
    "build_confusion_matrix(sgd_pipeline_ngram)"
   ]
  },
  {
   "cell_type": "code",
   "execution_count": 79,
   "id": "cooked-saint",
   "metadata": {},
   "outputs": [
    {
     "name": "stdout",
     "output_type": "stream",
     "text": [
      "Total statements classified: 10240\n",
      "Score: 0.6428493614654828\n",
      "score length 5\n",
      "Confusion matrix:\n",
      "[[1642 2846]\n",
      " [1679 4073]]\n"
     ]
    },
    {
     "data": {
      "text/plain": [
       "(None, None, None, None, None)"
      ]
     },
     "execution_count": 79,
     "metadata": {},
     "output_type": "execute_result"
    }
   ],
   "source": [
    "build_confusion_matrix(random_forest_ngram)"
   ]
  },
  {
   "cell_type": "code",
   "execution_count": 80,
   "id": "photographic-belly",
   "metadata": {},
   "outputs": [
    {
     "name": "stdout",
     "output_type": "stream",
     "text": [
      "              precision    recall  f1-score   support\n",
      "\n",
      "       False       0.49      0.72      0.58      1169\n",
      "        True       0.60      0.36      0.45      1382\n",
      "\n",
      "    accuracy                           0.52      2551\n",
      "   macro avg       0.54      0.54      0.51      2551\n",
      "weighted avg       0.55      0.52      0.51      2551\n",
      "\n"
     ]
    }
   ],
   "source": [
    "print(classification_report(test_news['Label'], predicted_svm_ngram))"
   ]
  },
  {
   "cell_type": "code",
   "execution_count": 81,
   "id": "exempt-flesh",
   "metadata": {},
   "outputs": [
    {
     "name": "stdout",
     "output_type": "stream",
     "text": [
      "              precision    recall  f1-score   support\n",
      "\n",
      "       False       0.55      0.04      0.08      1169\n",
      "        True       0.55      0.97      0.70      1382\n",
      "\n",
      "    accuracy                           0.55      2551\n",
      "   macro avg       0.55      0.51      0.39      2551\n",
      "weighted avg       0.55      0.55      0.42      2551\n",
      "\n"
     ]
    }
   ],
   "source": [
    "print(classification_report(test_news['Label'], predicted_sgd_ngram))"
   ]
  },
  {
   "cell_type": "code",
   "execution_count": 82,
   "id": "necessary-straight",
   "metadata": {},
   "outputs": [
    {
     "name": "stdout",
     "output_type": "stream",
     "text": [
      "              precision    recall  f1-score   support\n",
      "\n",
      "       False       0.49      0.71      0.58      1169\n",
      "        True       0.61      0.38      0.46      1382\n",
      "\n",
      "    accuracy                           0.53      2551\n",
      "   macro avg       0.55      0.54      0.52      2551\n",
      "weighted avg       0.55      0.53      0.52      2551\n",
      "\n"
     ]
    }
   ],
   "source": [
    "print(classification_report(test_news['Label'], predicted_rf_ngram))"
   ]
  },
  {
   "cell_type": "code",
   "execution_count": 83,
   "id": "affecting-tyler",
   "metadata": {},
   "outputs": [
    {
     "name": "stderr",
     "output_type": "stream",
     "text": [
      "/Users/jd/anaconda3/lib/python3.8/site-packages/sklearn/utils/deprecation.py:86: FutureWarning: Function plot_confusion_matrix is deprecated; This will be removed in v0.4.0. Please use scikitplot.metrics.plot_confusion_matrix instead.\n",
      "  warnings.warn(msg, category=FutureWarning)\n"
     ]
    },
    {
     "data": {
      "image/png": "[encoded data removed]",
      "text/plain": [
       "<Figure size 432x288 with 2 Axes>"
      ]
     },
     "metadata": {
      "needs_background": "light"
     },
     "output_type": "display_data"
    }
   ],
   "source": [
    "plot_confusionMatrix(svm_pipeline_ngram)"
   ]
  },
  {
   "cell_type": "code",
   "execution_count": 84,
   "id": "ancient-above",
   "metadata": {},
   "outputs": [
    {
     "data": {
      "image/png": "[encoded data removed]",
      "text/plain": [
       "<Figure size 432x288 with 2 Axes>"
      ]
     },
     "metadata": {
      "needs_background": "light"
     },
     "output_type": "display_data"
    }
   ],
   "source": [
    "plot_confusionMatrix(sgd_pipeline_ngram)"
   ]
  },
  {
   "cell_type": "code",
   "execution_count": 85,
   "id": "progressive-gravity",
   "metadata": {},
   "outputs": [
    {
     "name": "stderr",
     "output_type": "stream",
     "text": [
      "/Users/jd/anaconda3/lib/python3.8/site-packages/sklearn/utils/deprecation.py:86: FutureWarning: Function plot_confusion_matrix is deprecated; This will be removed in v0.4.0. Please use scikitplot.metrics.plot_confusion_matrix instead.\n",
      "  warnings.warn(msg, category=FutureWarning)\n"
     ]
    },
    {
     "data": {
      "image/png": "[encoded data removed]",
      "text/plain": [
       "<Figure size 432x288 with 2 Axes>"
      ]
     },
     "metadata": {
      "needs_background": "light"
     },
     "output_type": "display_data"
    }
   ],
   "source": [
    "plot_confusionMatrix(random_forest_ngram)"
   ]
  },
  {
   "cell_type": "code",
   "execution_count": null,
   "id": "danish-state",
   "metadata": {},
   "outputs": [],
   "source": []
  }
 ],
 "metadata": {
  "kernelspec": {
   "display_name": "Python 3",
   "language": "python",
   "name": "python3"
  },
  "language_info": {
   "codemirror_mode": {
    "name": "ipython",
    "version": 3
   },
   "file_extension": ".py",
   "mimetype": "text/x-python",
   "name": "python",
   "nbconvert_exporter": "python",
   "pygments_lexer": "ipython3",
   "version": "3.8.3"
  }
 },
 "nbformat": 4,
 "nbformat_minor": 5
}
