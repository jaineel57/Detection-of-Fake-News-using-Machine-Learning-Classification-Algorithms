{
 "cells": [
  {
   "cell_type": "code",
   "execution_count": 1,
   "id": "gorgeous-judges",
   "metadata": {},
   "outputs": [
    {
     "name": "stdout",
     "output_type": "stream",
     "text": [
      "importing Jupyter notebook from preprocessing.ipynb\n",
      "importing Jupyter notebook from FeatureSelection.ipynb\n",
      "CountVectorizer()\n",
      "  (0, 9676)\t1\n",
      "  (0, 10988)\t1\n",
      "  (0, 1044)\t1\n",
      "  (0, 6639)\t1\n",
      "  (0, 8376)\t1\n",
      "  (0, 5115)\t1\n",
      "  (0, 10709)\t1\n",
      "  (0, 11036)\t1\n",
      "  (0, 11296)\t1\n",
      "  (0, 615)\t1\n",
      "  (0, 7728)\t1\n",
      "  (0, 3278)\t1\n",
      "  (1, 10988)\t1\n",
      "  (1, 11934)\t2\n",
      "  (1, 3434)\t1\n",
      "  (1, 3185)\t1\n",
      "  (1, 7672)\t1\n",
      "  (1, 2475)\t1\n",
      "  (1, 10425)\t1\n",
      "  (1, 6052)\t1\n",
      "  (1, 10426)\t2\n",
      "  (1, 7418)\t1\n",
      "  (1, 4860)\t1\n",
      "  (1, 11138)\t1\n",
      "  (1, 7674)\t1\n",
      "  :\t:\n",
      "  (10239, 10988)\t1\n",
      "  (10239, 7672)\t2\n",
      "  (10239, 11110)\t2\n",
      "  (10239, 5267)\t1\n",
      "  (10239, 7828)\t1\n",
      "  (10239, 7824)\t1\n",
      "  (10239, 1159)\t1\n",
      "  (10239, 12151)\t2\n",
      "  (10239, 6327)\t1\n",
      "  (10239, 6603)\t1\n",
      "  (10239, 11013)\t1\n",
      "  (10239, 11004)\t1\n",
      "  (10239, 3309)\t1\n",
      "  (10239, 12158)\t1\n",
      "  (10239, 11660)\t2\n",
      "  (10239, 799)\t1\n",
      "  (10239, 2568)\t1\n",
      "  (10239, 11622)\t1\n",
      "  (10239, 2549)\t1\n",
      "  (10239, 10660)\t1\n",
      "  (10239, 8996)\t1\n",
      "  (10239, 10918)\t1\n",
      "  (10239, 3989)\t1\n",
      "  (10239, 10594)\t1\n",
      "  (10239, 6853)\t1\n",
      "0        Says the Annies List political group supports ...\n",
      "1        When did the decline of coal start? It started...\n",
      "2        Hillary Clinton agrees with John McCain \"by vo...\n",
      "3        Health care reform legislation is likely to ma...\n",
      "4        The economic turnaround started at the end of ...\n",
      "                               ...                        \n",
      "10235    There are a larger number of shark attacks in ...\n",
      "10236    Democrats have now become the party of the [At...\n",
      "10237    Says an alternative to Social Security that op...\n",
      "10238    On lifting the U.S. Cuban embargo and allowing...\n",
      "10239    The Department of Veterans Affairs has a manua...\n",
      "Name: Statement, Length: 10240, dtype: object\n"
     ]
    },
    {
     "data": {
      "image/png": "[encoded data removed]",
      "text/plain": [
       "<Figure size 432x288 with 1 Axes>"
      ]
     },
     "metadata": {
      "needs_background": "light"
     },
     "output_type": "display_data"
    }
   ],
   "source": [
    "import import_ipynb\n",
    "import preprocessing\n",
    "import FeatureSelection\n",
    "import numpy as np\n",
    "import pandas as pd\n",
    "import pickle\n",
    "from sklearn.feature_extraction.text import CountVectorizer\n",
    "from sklearn.feature_extraction.text import TfidfTransformer\n",
    "from sklearn.feature_extraction.text import TfidfVectorizer\n",
    "from sklearn.pipeline import Pipeline"
   ]
  },
  {
   "cell_type": "code",
   "execution_count": 2,
   "id": "prospective-morgan",
   "metadata": {},
   "outputs": [],
   "source": [
    "from sklearn.model_selection import KFold\n",
    "from sklearn.metrics import confusion_matrix, f1_score, classification_report\n",
    "from sklearn.model_selection import GridSearchCV\n",
    "from sklearn.model_selection import learning_curve\n",
    "import matplotlib.pyplot as plt\n",
    "from sklearn.metrics import precision_recall_curve\n",
    "from sklearn.metrics import average_precision_score"
   ]
  },
  {
   "cell_type": "code",
   "execution_count": 3,
   "id": "effective-court",
   "metadata": {},
   "outputs": [],
   "source": [
    "from sklearn.linear_model import SGDClassifier\n",
    "from sklearn import svm\n",
    "from sklearn.ensemble import RandomForestClassifier"
   ]
  },
  {
   "cell_type": "code",
   "execution_count": 4,
   "id": "portable-flood",
   "metadata": {},
   "outputs": [],
   "source": [
    "svm_pipeline = Pipeline([\n",
    "        ('svmCV',FeatureSelection.countv),\n",
    "        ('svm_clf',svm.LinearSVC())\n",
    "        ])"
   ]
  },
  {
   "cell_type": "code",
   "execution_count": 5,
   "id": "covered-carnival",
   "metadata": {},
   "outputs": [
    {
     "data": {
      "text/plain": [
       "Pipeline(steps=[('svmCV', CountVectorizer()), ('svm_clf', LinearSVC())])"
      ]
     },
     "execution_count": 5,
     "metadata": {},
     "output_type": "execute_result"
    }
   ],
   "source": [
    "svm_pipeline.fit(preprocessing.train_news['Statement'],preprocessing.train_news['Label'])"
   ]
  },
  {
   "cell_type": "code",
   "execution_count": 6,
   "id": "armed-imaging",
   "metadata": {},
   "outputs": [],
   "source": [
    "predicted_svm = svm_pipeline.predict(preprocessing.test_news['Statement'])"
   ]
  },
  {
   "cell_type": "code",
   "execution_count": 7,
   "id": "animal-chess",
   "metadata": {},
   "outputs": [
    {
     "data": {
      "text/plain": [
       "0.5723245785966288"
      ]
     },
     "execution_count": 7,
     "metadata": {},
     "output_type": "execute_result"
    }
   ],
   "source": [
    "np.mean(predicted_svm == preprocessing.test_news['Label'])"
   ]
  },
  {
   "cell_type": "code",
   "execution_count": 8,
   "id": "prepared-germany",
   "metadata": {},
   "outputs": [],
   "source": [
    "sgd_pipeline = Pipeline([\n",
    "        ('svm2CV',FeatureSelection.countv),\n",
    "        ('svm2_clf',SGDClassifier(loss='hinge', penalty='l2', alpha=1e-3))\n",
    "        ])"
   ]
  },
  {
   "cell_type": "code",
   "execution_count": 9,
   "id": "enhanced-disposition",
   "metadata": {},
   "outputs": [
    {
     "data": {
      "text/plain": [
       "Pipeline(steps=[('svm2CV', CountVectorizer()),\n",
       "                ('svm2_clf', SGDClassifier(alpha=0.001))])"
      ]
     },
     "execution_count": 9,
     "metadata": {},
     "output_type": "execute_result"
    }
   ],
   "source": [
    "sgd_pipeline.fit(preprocessing.train_news['Statement'],preprocessing.train_news['Label'])"
   ]
  },
  {
   "cell_type": "code",
   "execution_count": 10,
   "id": "sublime-township",
   "metadata": {},
   "outputs": [],
   "source": [
    "predicted_sgd = sgd_pipeline.predict(preprocessing.test_news['Statement'])"
   ]
  },
  {
   "cell_type": "code",
   "execution_count": 11,
   "id": "conventional-suspension",
   "metadata": {},
   "outputs": [
    {
     "data": {
      "text/plain": [
       "0.6095648765190121"
      ]
     },
     "execution_count": 11,
     "metadata": {},
     "output_type": "execute_result"
    }
   ],
   "source": [
    "np.mean(predicted_sgd == preprocessing.test_news['Label'])"
   ]
  },
  {
   "cell_type": "code",
   "execution_count": 12,
   "id": "explicit-champion",
   "metadata": {},
   "outputs": [],
   "source": [
    "random_forest = Pipeline([\n",
    "        ('rfCV',FeatureSelection.countv),\n",
    "        ('rf_clf',RandomForestClassifier(n_estimators=200,n_jobs=3))\n",
    "        ])"
   ]
  },
  {
   "cell_type": "code",
   "execution_count": 13,
   "id": "pursuant-singles",
   "metadata": {},
   "outputs": [
    {
     "data": {
      "text/plain": [
       "Pipeline(steps=[('rfCV', CountVectorizer()),\n",
       "                ('rf_clf', RandomForestClassifier(n_estimators=200, n_jobs=3))])"
      ]
     },
     "execution_count": 13,
     "metadata": {},
     "output_type": "execute_result"
    }
   ],
   "source": [
    "random_forest.fit(preprocessing.train_news['Statement'],preprocessing.train_news['Label'])"
   ]
  },
  {
   "cell_type": "code",
   "execution_count": 14,
   "id": "solid-maintenance",
   "metadata": {},
   "outputs": [],
   "source": [
    "predicted_rf = random_forest.predict(preprocessing.test_news['Statement'])"
   ]
  },
  {
   "cell_type": "code",
   "execution_count": 15,
   "id": "varied-population",
   "metadata": {},
   "outputs": [
    {
     "data": {
      "text/plain": [
       "0.6291650333202665"
      ]
     },
     "execution_count": 15,
     "metadata": {},
     "output_type": "execute_result"
    }
   ],
   "source": [
    "np.mean(predicted_rf == preprocessing.test_news['Label'])"
   ]
  },
  {
   "cell_type": "code",
   "execution_count": 16,
   "id": "awful-montana",
   "metadata": {},
   "outputs": [],
   "source": [
    "#User defined functon for K-Fold cross validatoin\n",
    "def build_confusion_matrix(classifier):\n",
    "    \n",
    "    k_fold = KFold(n_splits=5)\n",
    "    scores = []\n",
    "    confusion = np.array([[0,0],[0,0]])\n",
    "\n",
    "    for train_ind, test_ind in k_fold.split(preprocessing.train_news):\n",
    "        train_text = preprocessing.train_news.iloc[train_ind]['Statement'] \n",
    "        train_y = preprocessing.train_news.iloc[train_ind]['Label']\n",
    "    \n",
    "        test_text = preprocessing.train_news.iloc[test_ind]['Statement']\n",
    "        test_y = preprocessing.train_news.iloc[test_ind]['Label']\n",
    "        \n",
    "        classifier.fit(train_text,train_y)\n",
    "        predictions = classifier.predict(test_text)\n",
    "        \n",
    "        confusion += confusion_matrix(test_y,predictions)\n",
    "        score = f1_score(test_y,predictions)\n",
    "        scores.append(score)\n",
    "    \n",
    "    return (print('Total statements classified:', len(preprocessing.train_news)),\n",
    "    print('Score:', sum(scores)/len(scores)),\n",
    "    print('score length', len(scores)),\n",
    "    print('Confusion matrix:'),\n",
    "    print(confusion))"
   ]
  },
  {
   "cell_type": "code",
   "execution_count": 17,
   "id": "serious-animation",
   "metadata": {},
   "outputs": [
    {
     "name": "stdout",
     "output_type": "stream",
     "text": [
      "Total statements classified: 10240\n",
      "Score: 0.6104687487924283\n",
      "score length 5\n",
      "Confusion matrix:\n",
      "[[2260 2228]\n",
      " [2246 3506]]\n"
     ]
    },
    {
     "data": {
      "text/plain": [
       "(None, None, None, None, None)"
      ]
     },
     "execution_count": 17,
     "metadata": {},
     "output_type": "execute_result"
    }
   ],
   "source": [
    "build_confusion_matrix(svm_pipeline)"
   ]
  },
  {
   "cell_type": "code",
   "execution_count": 18,
   "id": "danish-version",
   "metadata": {},
   "outputs": [
    {
     "name": "stdout",
     "output_type": "stream",
     "text": [
      "Total statements classified: 10240\n",
      "Score: 0.664517945109596\n",
      "score length 5\n",
      "Confusion matrix:\n",
      "[[2155 2333]\n",
      " [1727 4025]]\n"
     ]
    },
    {
     "data": {
      "text/plain": [
       "(None, None, None, None, None)"
      ]
     },
     "execution_count": 18,
     "metadata": {},
     "output_type": "execute_result"
    }
   ],
   "source": [
    "build_confusion_matrix(sgd_pipeline)"
   ]
  },
  {
   "cell_type": "code",
   "execution_count": 19,
   "id": "compatible-oakland",
   "metadata": {},
   "outputs": [
    {
     "name": "stdout",
     "output_type": "stream",
     "text": [
      "Total statements classified: 10240\n",
      "Score: 0.7046675601048056\n",
      "score length 5\n",
      "Confusion matrix:\n",
      "[[1823 2665]\n",
      " [1173 4579]]\n"
     ]
    },
    {
     "data": {
      "text/plain": [
       "(None, None, None, None, None)"
      ]
     },
     "execution_count": 19,
     "metadata": {},
     "output_type": "execute_result"
    }
   ],
   "source": [
    "build_confusion_matrix(random_forest)"
   ]
  },
  {
   "cell_type": "code",
   "execution_count": 20,
   "id": "caring-advertiser",
   "metadata": {},
   "outputs": [],
   "source": [
    "svm_pipeline_ngram = Pipeline([\n",
    "        ('svm_tfidf',FeatureSelection.tfidf_ngram),\n",
    "        ('svm_clf',svm.LinearSVC())\n",
    "        ])"
   ]
  },
  {
   "cell_type": "code",
   "execution_count": 21,
   "id": "amino-report",
   "metadata": {},
   "outputs": [
    {
     "data": {
      "text/plain": [
       "Pipeline(steps=[('svm_tfidf',\n",
       "                 TfidfVectorizer(ngram_range=(1, 4), stop_words='english')),\n",
       "                ('svm_clf', LinearSVC())])"
      ]
     },
     "execution_count": 21,
     "metadata": {},
     "output_type": "execute_result"
    }
   ],
   "source": [
    "svm_pipeline_ngram.fit(preprocessing.train_news['Statement'],preprocessing.train_news['Label'])"
   ]
  },
  {
   "cell_type": "code",
   "execution_count": 22,
   "id": "acute-relay",
   "metadata": {},
   "outputs": [],
   "source": [
    "predicted_svm_ngram = svm_pipeline_ngram.predict(preprocessing.test_news['Statement'])"
   ]
  },
  {
   "cell_type": "code",
   "execution_count": 23,
   "id": "floral-maryland",
   "metadata": {},
   "outputs": [
    {
     "data": {
      "text/plain": [
       "0.6170129361034888"
      ]
     },
     "execution_count": 23,
     "metadata": {},
     "output_type": "execute_result"
    }
   ],
   "source": [
    "np.mean(predicted_svm_ngram == preprocessing.test_news['Label'])"
   ]
  },
  {
   "cell_type": "code",
   "execution_count": 24,
   "id": "mobile-charge",
   "metadata": {},
   "outputs": [],
   "source": [
    "sgd_pipeline_ngram = Pipeline([\n",
    "         ('sgd_tfidf',FeatureSelection.tfidf_ngram),\n",
    "         ('sgd_clf',SGDClassifier(loss='hinge', penalty='l2', alpha=1e-3))\n",
    "         ])"
   ]
  },
  {
   "cell_type": "code",
   "execution_count": 25,
   "id": "equal-representative",
   "metadata": {},
   "outputs": [
    {
     "data": {
      "text/plain": [
       "Pipeline(steps=[('sgd_tfidf',\n",
       "                 TfidfVectorizer(ngram_range=(1, 4), stop_words='english')),\n",
       "                ('sgd_clf', SGDClassifier(alpha=0.001))])"
      ]
     },
     "execution_count": 25,
     "metadata": {},
     "output_type": "execute_result"
    }
   ],
   "source": [
    "sgd_pipeline_ngram.fit(preprocessing.train_news['Statement'],preprocessing.train_news['Label'])"
   ]
  },
  {
   "cell_type": "code",
   "execution_count": 26,
   "id": "linear-document",
   "metadata": {},
   "outputs": [],
   "source": [
    "predicted_sgd_ngram = sgd_pipeline_ngram.predict(preprocessing.test_news['Statement'])"
   ]
  },
  {
   "cell_type": "code",
   "execution_count": 27,
   "id": "hybrid-malpractice",
   "metadata": {},
   "outputs": [
    {
     "data": {
      "text/plain": [
       "0.5417483339866719"
      ]
     },
     "execution_count": 27,
     "metadata": {},
     "output_type": "execute_result"
    }
   ],
   "source": [
    "np.mean(predicted_sgd_ngram == preprocessing.test_news['Label'])"
   ]
  },
  {
   "cell_type": "code",
   "execution_count": 28,
   "id": "romance-batch",
   "metadata": {},
   "outputs": [],
   "source": [
    "random_forest_ngram = Pipeline([\n",
    "        ('rf_tfidf',FeatureSelection.tfidf_ngram),\n",
    "        ('rf_clf',RandomForestClassifier(n_estimators=300,n_jobs=3))\n",
    "        ])"
   ]
  },
  {
   "cell_type": "code",
   "execution_count": 29,
   "id": "disabled-railway",
   "metadata": {},
   "outputs": [
    {
     "data": {
      "text/plain": [
       "Pipeline(steps=[('rf_tfidf',\n",
       "                 TfidfVectorizer(ngram_range=(1, 4), stop_words='english')),\n",
       "                ('rf_clf', RandomForestClassifier(n_estimators=300, n_jobs=3))])"
      ]
     },
     "execution_count": 29,
     "metadata": {},
     "output_type": "execute_result"
    }
   ],
   "source": [
    "random_forest_ngram.fit(preprocessing.train_news['Statement'],preprocessing.train_news['Label'])"
   ]
  },
  {
   "cell_type": "code",
   "execution_count": 30,
   "id": "stone-eleven",
   "metadata": {},
   "outputs": [],
   "source": [
    "predicted_rf_ngram = random_forest_ngram.predict(preprocessing.test_news['Statement'])"
   ]
  },
  {
   "cell_type": "code",
   "execution_count": 31,
   "id": "expired-bahrain",
   "metadata": {},
   "outputs": [
    {
     "data": {
      "text/plain": [
       "0.5997647981183849"
      ]
     },
     "execution_count": 31,
     "metadata": {},
     "output_type": "execute_result"
    }
   ],
   "source": [
    "np.mean(predicted_rf_ngram == preprocessing.test_news['Label'])"
   ]
  },
  {
   "cell_type": "code",
   "execution_count": 32,
   "id": "deadly-provision",
   "metadata": {},
   "outputs": [
    {
     "name": "stdout",
     "output_type": "stream",
     "text": [
      "Total statements classified: 10240\n",
      "Score: 0.6790920142902143\n",
      "score length 5\n",
      "Confusion matrix:\n",
      "[[2016 2472]\n",
      " [1524 4228]]\n"
     ]
    },
    {
     "data": {
      "text/plain": [
       "(None, None, None, None, None)"
      ]
     },
     "execution_count": 32,
     "metadata": {},
     "output_type": "execute_result"
    }
   ],
   "source": [
    "build_confusion_matrix(svm_pipeline_ngram)"
   ]
  },
  {
   "cell_type": "code",
   "execution_count": 33,
   "id": "suburban-facing",
   "metadata": {},
   "outputs": [
    {
     "name": "stdout",
     "output_type": "stream",
     "text": [
      "Total statements classified: 10240\n",
      "Score: 0.7190643331130575\n",
      "score length 5\n",
      "Confusion matrix:\n",
      "[[   5 4483]\n",
      " [   6 5746]]\n"
     ]
    },
    {
     "data": {
      "text/plain": [
       "(None, None, None, None, None)"
      ]
     },
     "execution_count": 33,
     "metadata": {},
     "output_type": "execute_result"
    }
   ],
   "source": [
    "build_confusion_matrix(sgd_pipeline_ngram)"
   ]
  },
  {
   "cell_type": "code",
   "execution_count": 34,
   "id": "dated-blood",
   "metadata": {},
   "outputs": [
    {
     "name": "stdout",
     "output_type": "stream",
     "text": [
      "Total statements classified: 10240\n",
      "Score: 0.6579181221078907\n",
      "score length 5\n",
      "Confusion matrix:\n",
      "[[2001 2487]\n",
      " [1713 4039]]\n"
     ]
    },
    {
     "data": {
      "text/plain": [
       "(None, None, None, None, None)"
      ]
     },
     "execution_count": 34,
     "metadata": {},
     "output_type": "execute_result"
    }
   ],
   "source": [
    "build_confusion_matrix(random_forest_ngram)"
   ]
  },
  {
   "cell_type": "code",
   "execution_count": 35,
   "id": "cooperative-reconstruction",
   "metadata": {},
   "outputs": [
    {
     "name": "stdout",
     "output_type": "stream",
     "text": [
      "              precision    recall  f1-score   support\n",
      "\n",
      "       False       0.61      0.47      0.53      1169\n",
      "        True       0.62      0.74      0.68      1382\n",
      "\n",
      "    accuracy                           0.62      2551\n",
      "   macro avg       0.61      0.61      0.60      2551\n",
      "weighted avg       0.62      0.62      0.61      2551\n",
      "\n"
     ]
    }
   ],
   "source": [
    "print(classification_report(preprocessing.test_news['Label'], predicted_svm_ngram))"
   ]
  },
  {
   "cell_type": "code",
   "execution_count": 36,
   "id": "constant-registration",
   "metadata": {},
   "outputs": [
    {
     "name": "stdout",
     "output_type": "stream",
     "text": [
      "              precision    recall  f1-score   support\n",
      "\n",
      "       False       0.00      0.00      0.00      1169\n",
      "        True       0.54      1.00      0.70      1382\n",
      "\n",
      "    accuracy                           0.54      2551\n",
      "   macro avg       0.27      0.50      0.35      2551\n",
      "weighted avg       0.29      0.54      0.38      2551\n",
      "\n"
     ]
    },
    {
     "name": "stderr",
     "output_type": "stream",
     "text": [
      "/Users/jd/anaconda3/lib/python3.8/site-packages/sklearn/metrics/_classification.py:1221: UndefinedMetricWarning: Precision and F-score are ill-defined and being set to 0.0 in labels with no predicted samples. Use `zero_division` parameter to control this behavior.\n",
      "  _warn_prf(average, modifier, msg_start, len(result))\n"
     ]
    }
   ],
   "source": [
    "print(classification_report(preprocessing.test_news['Label'], predicted_sgd_ngram))"
   ]
  },
  {
   "cell_type": "code",
   "execution_count": 37,
   "id": "compressed-syntax",
   "metadata": {},
   "outputs": [
    {
     "name": "stdout",
     "output_type": "stream",
     "text": [
      "              precision    recall  f1-score   support\n",
      "\n",
      "       False       0.58      0.48      0.52      1169\n",
      "        True       0.61      0.70      0.66      1382\n",
      "\n",
      "    accuracy                           0.60      2551\n",
      "   macro avg       0.60      0.59      0.59      2551\n",
      "weighted avg       0.60      0.60      0.59      2551\n",
      "\n"
     ]
    }
   ],
   "source": [
    "print(classification_report(preprocessing.test_news['Label'], predicted_rf_ngram))"
   ]
  },
  {
   "cell_type": "code",
   "execution_count": 38,
   "id": "contained-arlington",
   "metadata": {},
   "outputs": [
    {
     "data": {
      "text/plain": [
       "(2551,)"
      ]
     },
     "execution_count": 38,
     "metadata": {},
     "output_type": "execute_result"
    }
   ],
   "source": [
    "preprocessing.test_news['Label'].shape"
   ]
  },
  {
   "cell_type": "code",
   "execution_count": 39,
   "id": "occasional-architect",
   "metadata": {},
   "outputs": [],
   "source": [
    "from sklearn.model_selection import KFold"
   ]
  },
  {
   "cell_type": "code",
   "execution_count": 40,
   "id": "tropical-moderator",
   "metadata": {},
   "outputs": [],
   "source": [
    "def plot_PR_curve(classifier):\n",
    "    \n",
    "    precision, recall, thresholds = precision_recall_curve(preprocessing.test_news['Label'], classifier)\n",
    "    average_precision = average_precision_score(preprocessing.test_news['Label'], classifier)\n",
    "    \n",
    "    plt.step(recall, precision, color='b', alpha=0.2,\n",
    "             where='post')\n",
    "    plt.fill_between(recall, precision, step='post', alpha=0.2,\n",
    "                     color='b')\n",
    "    \n",
    "    plt.xlabel('Recall')\n",
    "    plt.ylabel('Precision')\n",
    "    plt.ylim([0.0, 1.05])\n",
    "    plt.xlim([0.0, 1.0])\n",
    "    plt.title('2-class Precision-Recall curve: AP={0:0.2f}'.format(\n",
    "              average_precision))"
   ]
  },
  {
   "cell_type": "code",
   "execution_count": 41,
   "id": "gentle-calcium",
   "metadata": {},
   "outputs": [
    {
     "data": {
      "image/png": "[encoded data removed]",
      "text/plain": [
       "<Figure size 432x288 with 1 Axes>"
      ]
     },
     "metadata": {
      "needs_background": "light"
     },
     "output_type": "display_data"
    }
   ],
   "source": [
    "plot_PR_curve(predicted_svm_ngram)"
   ]
  },
  {
   "cell_type": "code",
   "execution_count": 42,
   "id": "ordinary-institution",
   "metadata": {},
   "outputs": [
    {
     "data": {
      "image/png": "[encoded data removed]",
      "text/plain": [
       "<Figure size 432x288 with 1 Axes>"
      ]
     },
     "metadata": {
      "needs_background": "light"
     },
     "output_type": "display_data"
    }
   ],
   "source": [
    "plot_PR_curve(predicted_sgd_ngram)"
   ]
  },
  {
   "cell_type": "code",
   "execution_count": 43,
   "id": "caring-opposition",
   "metadata": {},
   "outputs": [
    {
     "data": {
      "image/png": "[encoded data removed]",
      "text/plain": [
       "<Figure size 432x288 with 1 Axes>"
      ]
     },
     "metadata": {
      "needs_background": "light"
     },
     "output_type": "display_data"
    }
   ],
   "source": [
    "plot_PR_curve(predicted_rf_ngram)"
   ]
  },
  {
   "cell_type": "code",
   "execution_count": 44,
   "id": "organized-commonwealth",
   "metadata": {},
   "outputs": [
    {
     "data": {
      "image/png": "[encoded data removed]",
      "text/plain": [
       "<Figure size 432x288 with 1 Axes>"
      ]
     },
     "metadata": {
      "needs_background": "light"
     },
     "output_type": "display_data"
    }
   ],
   "source": [
    "plot_PR_curve(predicted_svm)"
   ]
  },
  {
   "cell_type": "code",
   "execution_count": 45,
   "id": "outstanding-adoption",
   "metadata": {},
   "outputs": [
    {
     "data": {
      "image/png": "[encoded data removed]",
      "text/plain": [
       "<Figure size 432x288 with 1 Axes>"
      ]
     },
     "metadata": {
      "needs_background": "light"
     },
     "output_type": "display_data"
    }
   ],
   "source": [
    "plot_PR_curve(predicted_sgd)"
   ]
  },
  {
   "cell_type": "code",
   "execution_count": 46,
   "id": "minus-overall",
   "metadata": {},
   "outputs": [
    {
     "data": {
      "image/png": "[encoded data removed]",
      "text/plain": [
       "<Figure size 432x288 with 1 Axes>"
      ]
     },
     "metadata": {
      "needs_background": "light"
     },
     "output_type": "display_data"
    }
   ],
   "source": [
    "plot_PR_curve(predicted_rf)"
   ]
  },
  {
   "cell_type": "code",
   "execution_count": 47,
   "id": "productive-milton",
   "metadata": {},
   "outputs": [],
   "source": [
    "import scikitplot.plotters as skplt"
   ]
  },
  {
   "cell_type": "code",
   "execution_count": 48,
   "id": "gross-feeling",
   "metadata": {},
   "outputs": [],
   "source": [
    "def plot_confusionMatrix(classifier):\n",
    "    # plotting confusion matrix\n",
    "    k_fold = KFold(n_splits=5)\n",
    "    scores = []\n",
    "    confusion = np.array([[0,0],[0,0]])\n",
    "\n",
    "    for train_ind, test_ind in k_fold.split(preprocessing.train_news):\n",
    "        train_text = preprocessing.train_news.iloc[train_ind]['Statement'] \n",
    "        train_y = preprocessing.train_news.iloc[train_ind]['Label']\n",
    "    \n",
    "        test_text = preprocessing.train_news.iloc[test_ind]['Statement']\n",
    "        test_y = preprocessing.train_news.iloc[test_ind]['Label']\n",
    "        \n",
    "        classifier.fit(train_text,train_y)\n",
    "        predictions = classifier.predict(test_text)\n",
    "    skplt.plot_confusion_matrix(test_y, predictions)\n",
    "    plt.show()"
   ]
  },
  {
   "cell_type": "code",
   "execution_count": 49,
   "id": "external-average",
   "metadata": {},
   "outputs": [
    {
     "name": "stderr",
     "output_type": "stream",
     "text": [
      "/Users/jd/anaconda3/lib/python3.8/site-packages/sklearn/utils/deprecation.py:86: FutureWarning: Function plot_confusion_matrix is deprecated; This will be removed in v0.4.0. Please use scikitplot.metrics.plot_confusion_matrix instead.\n",
      "  warnings.warn(msg, category=FutureWarning)\n"
     ]
    },
    {
     "data": {
      "image/png": "[encoded data removed]",
      "text/plain": [
       "<Figure size 432x288 with 2 Axes>"
      ]
     },
     "metadata": {
      "needs_background": "light"
     },
     "output_type": "display_data"
    }
   ],
   "source": [
    "plot_confusionMatrix(svm_pipeline_ngram)"
   ]
  },
  {
   "cell_type": "code",
   "execution_count": 50,
   "id": "asian-stomach",
   "metadata": {},
   "outputs": [
    {
     "data": {
      "image/png": "[encoded data removed]",
      "text/plain": [
       "<Figure size 432x288 with 2 Axes>"
      ]
     },
     "metadata": {
      "needs_background": "light"
     },
     "output_type": "display_data"
    }
   ],
   "source": [
    "plot_confusionMatrix(sgd_pipeline_ngram)"
   ]
  },
  {
   "cell_type": "code",
   "execution_count": 51,
   "id": "legal-mileage",
   "metadata": {},
   "outputs": [
    {
     "name": "stderr",
     "output_type": "stream",
     "text": [
      "/Users/jd/anaconda3/lib/python3.8/site-packages/sklearn/utils/deprecation.py:86: FutureWarning: Function plot_confusion_matrix is deprecated; This will be removed in v0.4.0. Please use scikitplot.metrics.plot_confusion_matrix instead.\n",
      "  warnings.warn(msg, category=FutureWarning)\n"
     ]
    },
    {
     "data": {
      "image/png": "[encoded data removed]",
      "text/plain": [
       "<Figure size 432x288 with 2 Axes>"
      ]
     },
     "metadata": {
      "needs_background": "light"
     },
     "output_type": "display_data"
    }
   ],
   "source": [
    "plot_confusionMatrix(random_forest_ngram)"
   ]
  },
  {
   "cell_type": "code",
   "execution_count": 52,
   "id": "elegant-consumption",
   "metadata": {},
   "outputs": [],
   "source": [
    "import import_ipynb\n",
    "import preprocessing\n",
    "import FeatureSelection\n",
    "import numpy as np\n",
    "import pandas as pd\n",
    "import pickle\n",
    "from sklearn.feature_extraction.text import CountVectorizer\n",
    "from sklearn.feature_extraction.text import TfidfTransformer\n",
    "from sklearn.feature_extraction.text import TfidfVectorizer\n",
    "from sklearn.pipeline import Pipeline"
   ]
  },
  {
   "cell_type": "code",
   "execution_count": 53,
   "id": "cardiovascular-legislature",
   "metadata": {},
   "outputs": [
    {
     "name": "stdout",
     "output_type": "stream",
     "text": [
      "importing Jupyter notebook from Classification.ipynb\n"
     ]
    },
    {
     "name": "stderr",
     "output_type": "stream",
     "text": [
      "/Users/jd/anaconda3/lib/python3.8/site-packages/sklearn/linear_model/_logistic.py:762: ConvergenceWarning: lbfgs failed to converge (status=1):\n",
      "STOP: TOTAL NO. of ITERATIONS REACHED LIMIT.\n",
      "\n",
      "Increase the number of iterations (max_iter) or scale the data as shown in:\n",
      "    https://scikit-learn.org/stable/modules/preprocessing.html\n",
      "Please also refer to the documentation for alternative solver options:\n",
      "    https://scikit-learn.org/stable/modules/linear_model.html#logistic-regression\n",
      "  n_iter_i = _check_optimize_result(\n"
     ]
    },
    {
     "name": "stdout",
     "output_type": "stream",
     "text": [
      "Total statements classified: 10240\n",
      "Score: 0.66961153965076\n",
      "score length 5\n",
      "Confusion matrix:\n",
      "[[2118 2370]\n",
      " [1664 4088]]\n"
     ]
    },
    {
     "name": "stderr",
     "output_type": "stream",
     "text": [
      "/Users/jd/anaconda3/lib/python3.8/site-packages/sklearn/linear_model/_logistic.py:762: ConvergenceWarning: lbfgs failed to converge (status=1):\n",
      "STOP: TOTAL NO. of ITERATIONS REACHED LIMIT.\n",
      "\n",
      "Increase the number of iterations (max_iter) or scale the data as shown in:\n",
      "    https://scikit-learn.org/stable/modules/preprocessing.html\n",
      "Please also refer to the documentation for alternative solver options:\n",
      "    https://scikit-learn.org/stable/modules/linear_model.html#logistic-regression\n",
      "  n_iter_i = _check_optimize_result(\n",
      "/Users/jd/anaconda3/lib/python3.8/site-packages/sklearn/linear_model/_logistic.py:762: ConvergenceWarning: lbfgs failed to converge (status=1):\n",
      "STOP: TOTAL NO. of ITERATIONS REACHED LIMIT.\n",
      "\n",
      "Increase the number of iterations (max_iter) or scale the data as shown in:\n",
      "    https://scikit-learn.org/stable/modules/preprocessing.html\n",
      "Please also refer to the documentation for alternative solver options:\n",
      "    https://scikit-learn.org/stable/modules/linear_model.html#logistic-regression\n",
      "  n_iter_i = _check_optimize_result(\n",
      "/Users/jd/anaconda3/lib/python3.8/site-packages/sklearn/linear_model/_logistic.py:762: ConvergenceWarning: lbfgs failed to converge (status=1):\n",
      "STOP: TOTAL NO. of ITERATIONS REACHED LIMIT.\n",
      "\n",
      "Increase the number of iterations (max_iter) or scale the data as shown in:\n",
      "    https://scikit-learn.org/stable/modules/preprocessing.html\n",
      "Please also refer to the documentation for alternative solver options:\n",
      "    https://scikit-learn.org/stable/modules/linear_model.html#logistic-regression\n",
      "  n_iter_i = _check_optimize_result(\n",
      "/Users/jd/anaconda3/lib/python3.8/site-packages/sklearn/linear_model/_logistic.py:762: ConvergenceWarning: lbfgs failed to converge (status=1):\n",
      "STOP: TOTAL NO. of ITERATIONS REACHED LIMIT.\n",
      "\n",
      "Increase the number of iterations (max_iter) or scale the data as shown in:\n",
      "    https://scikit-learn.org/stable/modules/preprocessing.html\n",
      "Please also refer to the documentation for alternative solver options:\n",
      "    https://scikit-learn.org/stable/modules/linear_model.html#logistic-regression\n",
      "  n_iter_i = _check_optimize_result(\n",
      "/Users/jd/anaconda3/lib/python3.8/site-packages/sklearn/linear_model/_logistic.py:762: ConvergenceWarning: lbfgs failed to converge (status=1):\n",
      "STOP: TOTAL NO. of ITERATIONS REACHED LIMIT.\n",
      "\n",
      "Increase the number of iterations (max_iter) or scale the data as shown in:\n",
      "    https://scikit-learn.org/stable/modules/preprocessing.html\n",
      "Please also refer to the documentation for alternative solver options:\n",
      "    https://scikit-learn.org/stable/modules/linear_model.html#logistic-regression\n",
      "  n_iter_i = _check_optimize_result(\n"
     ]
    },
    {
     "name": "stdout",
     "output_type": "stream",
     "text": [
      "Total statements classified: 10240\n",
      "Score: 0.6466692934443682\n",
      "score length 5\n",
      "Confusion matrix:\n",
      "[[2254 2234]\n",
      " [1936 3816]]\n",
      "Total statements classified: 10240\n",
      "Score: 0.7224053159841455\n",
      "score length 5\n",
      "Confusion matrix:\n",
      "[[ 758 3730]\n",
      " [ 390 5362]]\n",
      "Total statements classified: 10240\n",
      "Score: 0.7044355553757985\n",
      "score length 5\n",
      "Confusion matrix:\n",
      "[[1580 2908]\n",
      " [1043 4709]]\n",
      "              precision    recall  f1-score   support\n",
      "\n",
      "       False       0.72      0.19      0.30      1169\n",
      "        True       0.58      0.94      0.71      1382\n",
      "\n",
      "    accuracy                           0.59      2551\n",
      "   macro avg       0.65      0.56      0.51      2551\n",
      "weighted avg       0.64      0.59      0.52      2551\n",
      "\n",
      "              precision    recall  f1-score   support\n",
      "\n",
      "       False       0.64      0.39      0.49      1169\n",
      "        True       0.61      0.81      0.70      1382\n",
      "\n",
      "    accuracy                           0.62      2551\n",
      "   macro avg       0.62      0.60      0.59      2551\n",
      "weighted avg       0.62      0.62      0.60      2551\n",
      "\n"
     ]
    },
    {
     "name": "stderr",
     "output_type": "stream",
     "text": [
      "/Users/jd/anaconda3/lib/python3.8/site-packages/sklearn/utils/deprecation.py:86: FutureWarning: Function plot_confusion_matrix is deprecated; This will be removed in v0.4.0. Please use scikitplot.metrics.plot_confusion_matrix instead.\n",
      "  warnings.warn(msg, category=FutureWarning)\n"
     ]
    },
    {
     "data": {
      "image/png": "[encoded data removed]",
      "text/plain": [
       "<Figure size 432x288 with 1 Axes>"
      ]
     },
     "metadata": {
      "needs_background": "light"
     },
     "output_type": "display_data"
    },
    {
     "data": {
      "image/png": "[encoded data removed]",
      "text/plain": [
       "<Figure size 432x288 with 2 Axes>"
      ]
     },
     "metadata": {
      "needs_background": "light"
     },
     "output_type": "display_data"
    },
    {
     "name": "stderr",
     "output_type": "stream",
     "text": [
      "/Users/jd/anaconda3/lib/python3.8/site-packages/sklearn/utils/deprecation.py:86: FutureWarning: Function plot_confusion_matrix is deprecated; This will be removed in v0.4.0. Please use scikitplot.metrics.plot_confusion_matrix instead.\n",
      "  warnings.warn(msg, category=FutureWarning)\n"
     ]
    },
    {
     "data": {
      "image/png": "[encoded data removed]",
      "text/plain": [
       "<Figure size 432x288 with 2 Axes>"
      ]
     },
     "metadata": {
      "needs_background": "light"
     },
     "output_type": "display_data"
    }
   ],
   "source": [
    "import Classification"
   ]
  },
  {
   "cell_type": "code",
   "execution_count": 54,
   "id": "interim-simple",
   "metadata": {},
   "outputs": [],
   "source": [
    "from sklearn.model_selection import KFold\n",
    "from sklearn.metrics import confusion_matrix, f1_score, classification_report\n",
    "from sklearn.model_selection import GridSearchCV\n",
    "from sklearn.model_selection import learning_curve\n",
    "import matplotlib.pyplot as plt\n",
    "from sklearn.metrics import precision_recall_curve\n",
    "from sklearn.metrics import average_precision_score"
   ]
  },
  {
   "cell_type": "code",
   "execution_count": 55,
   "id": "institutional-executive",
   "metadata": {},
   "outputs": [],
   "source": [
    "parameters = {'rf_tfidf__ngram_range': [(1, 1), (1, 2),(1,3),(1,4),(1,5)],\n",
    "               'rf_tfidf__use_idf': (True, False),\n",
    "               'rf_clf__max_depth': (1,2,3,4,5,6,7,8,9,10,11,12,13,14,15)\n",
    "}"
   ]
  },
  {
   "cell_type": "code",
   "execution_count": 56,
   "id": "indian-messaging",
   "metadata": {},
   "outputs": [],
   "source": [
    "gs_clf = GridSearchCV(random_forest_ngram, parameters, n_jobs=-1)\n",
    "gs_clf = gs_clf.fit(preprocessing.train_news['Statement'][:10000],preprocessing.train_news['Label'][:10000])"
   ]
  },
  {
   "cell_type": "code",
   "execution_count": 57,
   "id": "german-montreal",
   "metadata": {},
   "outputs": [
    {
     "data": {
      "text/plain": [
       "{'mean_fit_time': array([1.7538969 , 1.71059704, 2.31298752, 2.2971931 , 2.87784305,\n",
       "        2.81162791, 3.37452002, 3.29058461, 4.016049  , 4.16949863,\n",
       "        1.81456852, 1.84674354, 2.46427221, 2.72672482, 3.08876772,\n",
       "        2.94441919, 3.58386502, 3.54671607, 4.03179722, 4.09339466,\n",
       "        1.96368484, 1.93447289, 2.5762958 , 2.58939381, 3.80617461,\n",
       "        3.29201546, 4.1095397 , 3.72974844, 5.75283852, 6.02450643,\n",
       "        3.29369359, 3.26902685, 3.37649283, 3.18812318, 3.74252162,\n",
       "        3.69762478, 4.98882427, 4.32541218, 4.90603065, 4.60471792,\n",
       "        2.11654758, 2.06416116, 2.78316326, 2.79697857, 3.46649723,\n",
       "        3.42464824, 3.98705707, 3.9096663 , 5.14220877, 4.85888367,\n",
       "        2.20223064, 2.21172495, 2.96492891, 2.97487235, 3.58205957,\n",
       "        3.77022181, 4.26243439, 4.13750205, 4.8016583 , 4.87632513,\n",
       "        2.26698952, 2.26658611, 3.04455543, 3.11402559, 3.82346258,\n",
       "        3.80751262, 4.62964759, 4.56566243, 5.46361818, 5.9371428 ,\n",
       "        2.34341583, 2.40383773, 3.15087075, 3.17946982, 4.05546861,\n",
       "        3.87717586, 4.59454408, 4.66703877, 5.15189481, 5.37075825,\n",
       "        2.59026256, 2.42331448, 3.43367777, 3.27427349, 4.39030595,\n",
       "        4.35188551, 5.23921738, 5.01804085, 5.51730061, 5.9132267 ,\n",
       "        2.55481224, 2.42452378, 3.41268239, 3.4883358 , 4.37142758,\n",
       "        4.44903121, 5.22871518, 5.04502378, 5.79924574, 6.11066718,\n",
       "        2.70345759, 2.67351661, 3.75299687, 3.56662636, 5.87671719,\n",
       "        5.1511807 , 5.98701081, 6.31142535, 6.42794161, 6.67154474,\n",
       "        2.97753744, 4.42110901, 7.43338013, 5.61482353, 5.66100559,\n",
       "        5.05543599, 5.99043894, 6.08642483, 7.99908514, 7.32663703,\n",
       "        2.87779527, 2.85796185, 4.17150803, 4.18938131, 5.41581178,\n",
       "        5.60130024, 6.35785165, 6.09010463, 7.51250978, 7.49300699,\n",
       "        3.08484282, 2.99451661, 4.39776473, 4.30799122, 6.4357028 ,\n",
       "        5.5498558 , 7.25768232, 7.06337337, 7.75114613, 7.87586122,\n",
       "        3.22277217, 3.13527298, 4.58305573, 4.6010695 , 5.90333781,\n",
       "        5.6978476 , 7.0899374 , 7.13073201, 7.83839383, 7.11734262]),\n",
       " 'std_fit_time': array([0.03517502, 0.03712907, 0.03707616, 0.01668372, 0.03913559,\n",
       "        0.02897295, 0.02975973, 0.04375623, 0.21777995, 0.09005323,\n",
       "        0.13667954, 0.08365984, 0.07880147, 0.13773726, 0.02775909,\n",
       "        0.04471174, 0.10099874, 0.08337906, 0.09776655, 0.14246944,\n",
       "        0.11936078, 0.04948633, 0.09216366, 0.12099928, 0.11557649,\n",
       "        0.11428196, 0.24494566, 0.10221954, 1.20518387, 0.83817075,\n",
       "        1.06349946, 0.65206385, 0.19962401, 0.09891532, 0.25791486,\n",
       "        0.14419681, 0.51912729, 0.13816012, 0.11558022, 0.14384185,\n",
       "        0.12168871, 0.0868577 , 0.05434113, 0.08954856, 0.07212117,\n",
       "        0.06751249, 0.08061837, 0.10434539, 0.22225224, 0.15062223,\n",
       "        0.08803407, 0.02926712, 0.17003553, 0.20034662, 0.13513351,\n",
       "        0.17627259, 0.20419791, 0.21358137, 0.26220005, 0.28934834,\n",
       "        0.22844044, 0.08082902, 0.077541  , 0.05714609, 0.11525303,\n",
       "        0.06431865, 0.08007877, 0.25098321, 0.40061512, 0.13539651,\n",
       "        0.19504456, 0.1035648 , 0.15348935, 0.20552494, 0.21648022,\n",
       "        0.17764578, 0.10216588, 0.18452176, 0.27348391, 0.29621415,\n",
       "        0.15367231, 0.10993515, 0.2248062 , 0.22946016, 0.36419485,\n",
       "        0.28672275, 0.10047105, 0.08664048, 0.12829979, 0.49355476,\n",
       "        0.22156086, 0.12998315, 0.17490946, 0.08418019, 0.16650495,\n",
       "        0.098508  , 0.0770777 , 0.0323748 , 0.14751569, 0.28553963,\n",
       "        0.31873195, 0.16386377, 0.09326824, 0.17811439, 0.8641326 ,\n",
       "        0.5069067 , 0.14075692, 0.38274288, 0.28921918, 0.80690582,\n",
       "        0.21337528, 0.61894389, 0.30192415, 0.87656943, 0.14357248,\n",
       "        0.17127443, 0.07981107, 0.27384785, 0.28471554, 0.51183234,\n",
       "        0.24781511, 0.19482865, 0.18185622, 0.05078691, 0.11661858,\n",
       "        0.25245796, 0.0848102 , 0.0870824 , 0.23347038, 0.48383669,\n",
       "        0.07335033, 0.15920509, 0.20998212, 0.1713359 , 0.31814314,\n",
       "        0.14615521, 0.57631053, 0.1896443 , 0.12856636, 0.69876877,\n",
       "        0.14861606, 0.12361506, 0.31955167, 0.06736553, 0.11228446,\n",
       "        0.15414065, 0.23217921, 0.1706999 , 0.0759869 , 0.66047026]),\n",
       " 'mean_score_time': array([0.26024995, 0.25375795, 0.28847895, 0.29383321, 0.36871037,\n",
       "        0.34126244, 0.42702804, 0.3886312 , 0.49193401, 0.43403573,\n",
       "        0.21753883, 0.23359466, 0.31056371, 0.28413806, 0.36302009,\n",
       "        0.35785117, 0.38780084, 0.37122564, 0.44883146, 0.41819372,\n",
       "        0.22817855, 0.22437553, 0.29921823, 0.27467937, 0.34044838,\n",
       "        0.31827869, 0.37875943, 0.35923839, 0.58942103, 0.56652737,\n",
       "        0.28612299, 0.33482924, 0.32061791, 0.3220716 , 0.34776316,\n",
       "        0.3703548 , 0.40209794, 0.37319922, 0.43347592, 0.42146888,\n",
       "        0.2383132 , 0.21469202, 0.29235554, 0.32747884, 0.34519181,\n",
       "        0.3457973 , 0.39436059, 0.36803775, 0.40701981, 0.42450643,\n",
       "        0.22524586, 0.21785769, 0.32491908, 0.28618717, 0.32793474,\n",
       "        0.3420567 , 0.37924509, 0.37296147, 0.40327077, 0.4020081 ,\n",
       "        0.22771826, 0.22515535, 0.27769632, 0.26622801, 0.34294686,\n",
       "        0.32940559, 0.3733747 , 0.37908955, 0.42717652, 0.43543715,\n",
       "        0.22176409, 0.2132792 , 0.27989712, 0.26973119, 0.33067932,\n",
       "        0.31438999, 0.36610174, 0.3900517 , 0.44476852, 0.45523863,\n",
       "        0.21695642, 0.22477336, 0.28669214, 0.28955669, 0.36991806,\n",
       "        0.33350868, 0.37349677, 0.37553158, 0.42400417, 0.45205059,\n",
       "        0.24283276, 0.22793679, 0.31948075, 0.278198  , 0.31511402,\n",
       "        0.31926575, 0.3499362 , 0.34666958, 0.39520302, 0.45575705,\n",
       "        0.22192559, 0.22525358, 0.28393631, 0.27481666, 0.39920754,\n",
       "        0.34181046, 0.39523745, 0.41212754, 0.40813661, 0.4929399 ,\n",
       "        0.23335381, 0.4654088 , 0.53434548, 0.3283597 , 0.3398478 ,\n",
       "        0.33942242, 0.41434484, 0.40946679, 0.47418222, 0.50070863,\n",
       "        0.23640375, 0.23084717, 0.34065475, 0.30041475, 0.36656766,\n",
       "        0.37104583, 0.43890815, 0.38713956, 0.43736095, 0.45541077,\n",
       "        0.21941628, 0.2234971 , 0.30548296, 0.30437846, 0.35652719,\n",
       "        0.33161826, 0.39352579, 0.39601598, 0.43816118, 0.42999239,\n",
       "        0.21879439, 0.22930999, 0.30141301, 0.30936713, 0.33863578,\n",
       "        0.347961  , 0.40221047, 0.37356339, 0.43967862, 0.38437696]),\n",
       " 'std_score_time': array([0.0387574 , 0.048468  , 0.01366498, 0.0217564 , 0.02856714,\n",
       "        0.01481212, 0.02276636, 0.02762229, 0.03494902, 0.02773049,\n",
       "        0.01418172, 0.01235372, 0.03075619, 0.01846382, 0.04795408,\n",
       "        0.04011146, 0.0237935 , 0.0381169 , 0.03563698, 0.0570195 ,\n",
       "        0.02129139, 0.01664276, 0.02278696, 0.01926634, 0.02304037,\n",
       "        0.01871255, 0.0241097 , 0.02206929, 0.18726468, 0.25334264,\n",
       "        0.07485082, 0.11767362, 0.01723635, 0.05811365, 0.00909713,\n",
       "        0.06758562, 0.03047946, 0.02146268, 0.04460814, 0.02322436,\n",
       "        0.02029917, 0.00944656, 0.04138679, 0.04059767, 0.04317723,\n",
       "        0.04262098, 0.03583488, 0.0123663 , 0.03308266, 0.05042433,\n",
       "        0.01842387, 0.01038888, 0.02322413, 0.02471759, 0.01762896,\n",
       "        0.02986298, 0.0374195 , 0.0119178 , 0.02295306, 0.01663889,\n",
       "        0.01490327, 0.01500541, 0.01491229, 0.01076214, 0.01212242,\n",
       "        0.00359283, 0.02762374, 0.0286211 , 0.04312288, 0.07089925,\n",
       "        0.00791587, 0.01118359, 0.01465845, 0.01342507, 0.01446169,\n",
       "        0.00855768, 0.02096428, 0.03258613, 0.03395184, 0.06550527,\n",
       "        0.01154626, 0.01072767, 0.02591479, 0.0143471 , 0.04707148,\n",
       "        0.02312377, 0.01051393, 0.01798265, 0.02945166, 0.02615009,\n",
       "        0.01778953, 0.02125898, 0.02599868, 0.01801621, 0.01589131,\n",
       "        0.02358869, 0.00844693, 0.01426772, 0.01476235, 0.05230327,\n",
       "        0.02109145, 0.0210406 , 0.01226344, 0.01257814, 0.1106362 ,\n",
       "        0.03373624, 0.03594463, 0.04675092, 0.0527273 , 0.07466801,\n",
       "        0.0540764 , 0.23190913, 0.09519812, 0.07217549, 0.01418647,\n",
       "        0.01999201, 0.03389628, 0.03212319, 0.02285317, 0.04997002,\n",
       "        0.01605734, 0.01783103, 0.04731095, 0.01568927, 0.03689728,\n",
       "        0.01445025, 0.06719186, 0.03941258, 0.03424487, 0.03387173,\n",
       "        0.01538191, 0.01482922, 0.03225361, 0.02222335, 0.04860701,\n",
       "        0.00669272, 0.02783454, 0.05932706, 0.04747603, 0.01525243,\n",
       "        0.01890936, 0.01723363, 0.03414006, 0.02391884, 0.02199647,\n",
       "        0.03541494, 0.03414845, 0.01910116, 0.03116465, 0.04896486]),\n",
       " 'param_rf_clf__max_depth': masked_array(data=[1, 1, 1, 1, 1, 1, 1, 1, 1, 1, 2, 2, 2, 2, 2, 2, 2, 2,\n",
       "                    2, 2, 3, 3, 3, 3, 3, 3, 3, 3, 3, 3, 4, 4, 4, 4, 4, 4,\n",
       "                    4, 4, 4, 4, 5, 5, 5, 5, 5, 5, 5, 5, 5, 5, 6, 6, 6, 6,\n",
       "                    6, 6, 6, 6, 6, 6, 7, 7, 7, 7, 7, 7, 7, 7, 7, 7, 8, 8,\n",
       "                    8, 8, 8, 8, 8, 8, 8, 8, 9, 9, 9, 9, 9, 9, 9, 9, 9, 9,\n",
       "                    10, 10, 10, 10, 10, 10, 10, 10, 10, 10, 11, 11, 11, 11,\n",
       "                    11, 11, 11, 11, 11, 11, 12, 12, 12, 12, 12, 12, 12, 12,\n",
       "                    12, 12, 13, 13, 13, 13, 13, 13, 13, 13, 13, 13, 14, 14,\n",
       "                    14, 14, 14, 14, 14, 14, 14, 14, 15, 15, 15, 15, 15, 15,\n",
       "                    15, 15, 15, 15],\n",
       "              mask=[False, False, False, False, False, False, False, False,\n",
       "                    False, False, False, False, False, False, False, False,\n",
       "                    False, False, False, False, False, False, False, False,\n",
       "                    False, False, False, False, False, False, False, False,\n",
       "                    False, False, False, False, False, False, False, False,\n",
       "                    False, False, False, False, False, False, False, False,\n",
       "                    False, False, False, False, False, False, False, False,\n",
       "                    False, False, False, False, False, False, False, False,\n",
       "                    False, False, False, False, False, False, False, False,\n",
       "                    False, False, False, False, False, False, False, False,\n",
       "                    False, False, False, False, False, False, False, False,\n",
       "                    False, False, False, False, False, False, False, False,\n",
       "                    False, False, False, False, False, False, False, False,\n",
       "                    False, False, False, False, False, False, False, False,\n",
       "                    False, False, False, False, False, False, False, False,\n",
       "                    False, False, False, False, False, False, False, False,\n",
       "                    False, False, False, False, False, False, False, False,\n",
       "                    False, False, False, False, False, False, False, False,\n",
       "                    False, False, False, False, False, False],\n",
       "        fill_value='?',\n",
       "             dtype=object),\n",
       " 'param_rf_tfidf__ngram_range': masked_array(data=[(1, 1), (1, 1), (1, 2), (1, 2), (1, 3), (1, 3), (1, 4),\n",
       "                    (1, 4), (1, 5), (1, 5), (1, 1), (1, 1), (1, 2), (1, 2),\n",
       "                    (1, 3), (1, 3), (1, 4), (1, 4), (1, 5), (1, 5), (1, 1),\n",
       "                    (1, 1), (1, 2), (1, 2), (1, 3), (1, 3), (1, 4), (1, 4),\n",
       "                    (1, 5), (1, 5), (1, 1), (1, 1), (1, 2), (1, 2), (1, 3),\n",
       "                    (1, 3), (1, 4), (1, 4), (1, 5), (1, 5), (1, 1), (1, 1),\n",
       "                    (1, 2), (1, 2), (1, 3), (1, 3), (1, 4), (1, 4), (1, 5),\n",
       "                    (1, 5), (1, 1), (1, 1), (1, 2), (1, 2), (1, 3), (1, 3),\n",
       "                    (1, 4), (1, 4), (1, 5), (1, 5), (1, 1), (1, 1), (1, 2),\n",
       "                    (1, 2), (1, 3), (1, 3), (1, 4), (1, 4), (1, 5), (1, 5),\n",
       "                    (1, 1), (1, 1), (1, 2), (1, 2), (1, 3), (1, 3), (1, 4),\n",
       "                    (1, 4), (1, 5), (1, 5), (1, 1), (1, 1), (1, 2), (1, 2),\n",
       "                    (1, 3), (1, 3), (1, 4), (1, 4), (1, 5), (1, 5), (1, 1),\n",
       "                    (1, 1), (1, 2), (1, 2), (1, 3), (1, 3), (1, 4), (1, 4),\n",
       "                    (1, 5), (1, 5), (1, 1), (1, 1), (1, 2), (1, 2), (1, 3),\n",
       "                    (1, 3), (1, 4), (1, 4), (1, 5), (1, 5), (1, 1), (1, 1),\n",
       "                    (1, 2), (1, 2), (1, 3), (1, 3), (1, 4), (1, 4), (1, 5),\n",
       "                    (1, 5), (1, 1), (1, 1), (1, 2), (1, 2), (1, 3), (1, 3),\n",
       "                    (1, 4), (1, 4), (1, 5), (1, 5), (1, 1), (1, 1), (1, 2),\n",
       "                    (1, 2), (1, 3), (1, 3), (1, 4), (1, 4), (1, 5), (1, 5),\n",
       "                    (1, 1), (1, 1), (1, 2), (1, 2), (1, 3), (1, 3), (1, 4),\n",
       "                    (1, 4), (1, 5), (1, 5)],\n",
       "              mask=[False, False, False, False, False, False, False, False,\n",
       "                    False, False, False, False, False, False, False, False,\n",
       "                    False, False, False, False, False, False, False, False,\n",
       "                    False, False, False, False, False, False, False, False,\n",
       "                    False, False, False, False, False, False, False, False,\n",
       "                    False, False, False, False, False, False, False, False,\n",
       "                    False, False, False, False, False, False, False, False,\n",
       "                    False, False, False, False, False, False, False, False,\n",
       "                    False, False, False, False, False, False, False, False,\n",
       "                    False, False, False, False, False, False, False, False,\n",
       "                    False, False, False, False, False, False, False, False,\n",
       "                    False, False, False, False, False, False, False, False,\n",
       "                    False, False, False, False, False, False, False, False,\n",
       "                    False, False, False, False, False, False, False, False,\n",
       "                    False, False, False, False, False, False, False, False,\n",
       "                    False, False, False, False, False, False, False, False,\n",
       "                    False, False, False, False, False, False, False, False,\n",
       "                    False, False, False, False, False, False, False, False,\n",
       "                    False, False, False, False, False, False],\n",
       "        fill_value='?',\n",
       "             dtype=object),\n",
       " 'param_rf_tfidf__use_idf': masked_array(data=[True, False, True, False, True, False, True, False,\n",
       "                    True, False, True, False, True, False, True, False,\n",
       "                    True, False, True, False, True, False, True, False,\n",
       "                    True, False, True, False, True, False, True, False,\n",
       "                    True, False, True, False, True, False, True, False,\n",
       "                    True, False, True, False, True, False, True, False,\n",
       "                    True, False, True, False, True, False, True, False,\n",
       "                    True, False, True, False, True, False, True, False,\n",
       "                    True, False, True, False, True, False, True, False,\n",
       "                    True, False, True, False, True, False, True, False,\n",
       "                    True, False, True, False, True, False, True, False,\n",
       "                    True, False, True, False, True, False, True, False,\n",
       "                    True, False, True, False, True, False, True, False,\n",
       "                    True, False, True, False, True, False, True, False,\n",
       "                    True, False, True, False, True, False, True, False,\n",
       "                    True, False, True, False, True, False, True, False,\n",
       "                    True, False, True, False, True, False, True, False,\n",
       "                    True, False, True, False, True, False, True, False,\n",
       "                    True, False, True, False, True, False],\n",
       "              mask=[False, False, False, False, False, False, False, False,\n",
       "                    False, False, False, False, False, False, False, False,\n",
       "                    False, False, False, False, False, False, False, False,\n",
       "                    False, False, False, False, False, False, False, False,\n",
       "                    False, False, False, False, False, False, False, False,\n",
       "                    False, False, False, False, False, False, False, False,\n",
       "                    False, False, False, False, False, False, False, False,\n",
       "                    False, False, False, False, False, False, False, False,\n",
       "                    False, False, False, False, False, False, False, False,\n",
       "                    False, False, False, False, False, False, False, False,\n",
       "                    False, False, False, False, False, False, False, False,\n",
       "                    False, False, False, False, False, False, False, False,\n",
       "                    False, False, False, False, False, False, False, False,\n",
       "                    False, False, False, False, False, False, False, False,\n",
       "                    False, False, False, False, False, False, False, False,\n",
       "                    False, False, False, False, False, False, False, False,\n",
       "                    False, False, False, False, False, False, False, False,\n",
       "                    False, False, False, False, False, False, False, False,\n",
       "                    False, False, False, False, False, False],\n",
       "        fill_value='?',\n",
       "             dtype=object),\n",
       " 'params': [{'rf_clf__max_depth': 1,\n",
       "   'rf_tfidf__ngram_range': (1, 1),\n",
       "   'rf_tfidf__use_idf': True},\n",
       "  {'rf_clf__max_depth': 1,\n",
       "   'rf_tfidf__ngram_range': (1, 1),\n",
       "   'rf_tfidf__use_idf': False},\n",
       "  {'rf_clf__max_depth': 1,\n",
       "   'rf_tfidf__ngram_range': (1, 2),\n",
       "   'rf_tfidf__use_idf': True},\n",
       "  {'rf_clf__max_depth': 1,\n",
       "   'rf_tfidf__ngram_range': (1, 2),\n",
       "   'rf_tfidf__use_idf': False},\n",
       "  {'rf_clf__max_depth': 1,\n",
       "   'rf_tfidf__ngram_range': (1, 3),\n",
       "   'rf_tfidf__use_idf': True},\n",
       "  {'rf_clf__max_depth': 1,\n",
       "   'rf_tfidf__ngram_range': (1, 3),\n",
       "   'rf_tfidf__use_idf': False},\n",
       "  {'rf_clf__max_depth': 1,\n",
       "   'rf_tfidf__ngram_range': (1, 4),\n",
       "   'rf_tfidf__use_idf': True},\n",
       "  {'rf_clf__max_depth': 1,\n",
       "   'rf_tfidf__ngram_range': (1, 4),\n",
       "   'rf_tfidf__use_idf': False},\n",
       "  {'rf_clf__max_depth': 1,\n",
       "   'rf_tfidf__ngram_range': (1, 5),\n",
       "   'rf_tfidf__use_idf': True},\n",
       "  {'rf_clf__max_depth': 1,\n",
       "   'rf_tfidf__ngram_range': (1, 5),\n",
       "   'rf_tfidf__use_idf': False},\n",
       "  {'rf_clf__max_depth': 2,\n",
       "   'rf_tfidf__ngram_range': (1, 1),\n",
       "   'rf_tfidf__use_idf': True},\n",
       "  {'rf_clf__max_depth': 2,\n",
       "   'rf_tfidf__ngram_range': (1, 1),\n",
       "   'rf_tfidf__use_idf': False},\n",
       "  {'rf_clf__max_depth': 2,\n",
       "   'rf_tfidf__ngram_range': (1, 2),\n",
       "   'rf_tfidf__use_idf': True},\n",
       "  {'rf_clf__max_depth': 2,\n",
       "   'rf_tfidf__ngram_range': (1, 2),\n",
       "   'rf_tfidf__use_idf': False},\n",
       "  {'rf_clf__max_depth': 2,\n",
       "   'rf_tfidf__ngram_range': (1, 3),\n",
       "   'rf_tfidf__use_idf': True},\n",
       "  {'rf_clf__max_depth': 2,\n",
       "   'rf_tfidf__ngram_range': (1, 3),\n",
       "   'rf_tfidf__use_idf': False},\n",
       "  {'rf_clf__max_depth': 2,\n",
       "   'rf_tfidf__ngram_range': (1, 4),\n",
       "   'rf_tfidf__use_idf': True},\n",
       "  {'rf_clf__max_depth': 2,\n",
       "   'rf_tfidf__ngram_range': (1, 4),\n",
       "   'rf_tfidf__use_idf': False},\n",
       "  {'rf_clf__max_depth': 2,\n",
       "   'rf_tfidf__ngram_range': (1, 5),\n",
       "   'rf_tfidf__use_idf': True},\n",
       "  {'rf_clf__max_depth': 2,\n",
       "   'rf_tfidf__ngram_range': (1, 5),\n",
       "   'rf_tfidf__use_idf': False},\n",
       "  {'rf_clf__max_depth': 3,\n",
       "   'rf_tfidf__ngram_range': (1, 1),\n",
       "   'rf_tfidf__use_idf': True},\n",
       "  {'rf_clf__max_depth': 3,\n",
       "   'rf_tfidf__ngram_range': (1, 1),\n",
       "   'rf_tfidf__use_idf': False},\n",
       "  {'rf_clf__max_depth': 3,\n",
       "   'rf_tfidf__ngram_range': (1, 2),\n",
       "   'rf_tfidf__use_idf': True},\n",
       "  {'rf_clf__max_depth': 3,\n",
       "   'rf_tfidf__ngram_range': (1, 2),\n",
       "   'rf_tfidf__use_idf': False},\n",
       "  {'rf_clf__max_depth': 3,\n",
       "   'rf_tfidf__ngram_range': (1, 3),\n",
       "   'rf_tfidf__use_idf': True},\n",
       "  {'rf_clf__max_depth': 3,\n",
       "   'rf_tfidf__ngram_range': (1, 3),\n",
       "   'rf_tfidf__use_idf': False},\n",
       "  {'rf_clf__max_depth': 3,\n",
       "   'rf_tfidf__ngram_range': (1, 4),\n",
       "   'rf_tfidf__use_idf': True},\n",
       "  {'rf_clf__max_depth': 3,\n",
       "   'rf_tfidf__ngram_range': (1, 4),\n",
       "   'rf_tfidf__use_idf': False},\n",
       "  {'rf_clf__max_depth': 3,\n",
       "   'rf_tfidf__ngram_range': (1, 5),\n",
       "   'rf_tfidf__use_idf': True},\n",
       "  {'rf_clf__max_depth': 3,\n",
       "   'rf_tfidf__ngram_range': (1, 5),\n",
       "   'rf_tfidf__use_idf': False},\n",
       "  {'rf_clf__max_depth': 4,\n",
       "   'rf_tfidf__ngram_range': (1, 1),\n",
       "   'rf_tfidf__use_idf': True},\n",
       "  {'rf_clf__max_depth': 4,\n",
       "   'rf_tfidf__ngram_range': (1, 1),\n",
       "   'rf_tfidf__use_idf': False},\n",
       "  {'rf_clf__max_depth': 4,\n",
       "   'rf_tfidf__ngram_range': (1, 2),\n",
       "   'rf_tfidf__use_idf': True},\n",
       "  {'rf_clf__max_depth': 4,\n",
       "   'rf_tfidf__ngram_range': (1, 2),\n",
       "   'rf_tfidf__use_idf': False},\n",
       "  {'rf_clf__max_depth': 4,\n",
       "   'rf_tfidf__ngram_range': (1, 3),\n",
       "   'rf_tfidf__use_idf': True},\n",
       "  {'rf_clf__max_depth': 4,\n",
       "   'rf_tfidf__ngram_range': (1, 3),\n",
       "   'rf_tfidf__use_idf': False},\n",
       "  {'rf_clf__max_depth': 4,\n",
       "   'rf_tfidf__ngram_range': (1, 4),\n",
       "   'rf_tfidf__use_idf': True},\n",
       "  {'rf_clf__max_depth': 4,\n",
       "   'rf_tfidf__ngram_range': (1, 4),\n",
       "   'rf_tfidf__use_idf': False},\n",
       "  {'rf_clf__max_depth': 4,\n",
       "   'rf_tfidf__ngram_range': (1, 5),\n",
       "   'rf_tfidf__use_idf': True},\n",
       "  {'rf_clf__max_depth': 4,\n",
       "   'rf_tfidf__ngram_range': (1, 5),\n",
       "   'rf_tfidf__use_idf': False},\n",
       "  {'rf_clf__max_depth': 5,\n",
       "   'rf_tfidf__ngram_range': (1, 1),\n",
       "   'rf_tfidf__use_idf': True},\n",
       "  {'rf_clf__max_depth': 5,\n",
       "   'rf_tfidf__ngram_range': (1, 1),\n",
       "   'rf_tfidf__use_idf': False},\n",
       "  {'rf_clf__max_depth': 5,\n",
       "   'rf_tfidf__ngram_range': (1, 2),\n",
       "   'rf_tfidf__use_idf': True},\n",
       "  {'rf_clf__max_depth': 5,\n",
       "   'rf_tfidf__ngram_range': (1, 2),\n",
       "   'rf_tfidf__use_idf': False},\n",
       "  {'rf_clf__max_depth': 5,\n",
       "   'rf_tfidf__ngram_range': (1, 3),\n",
       "   'rf_tfidf__use_idf': True},\n",
       "  {'rf_clf__max_depth': 5,\n",
       "   'rf_tfidf__ngram_range': (1, 3),\n",
       "   'rf_tfidf__use_idf': False},\n",
       "  {'rf_clf__max_depth': 5,\n",
       "   'rf_tfidf__ngram_range': (1, 4),\n",
       "   'rf_tfidf__use_idf': True},\n",
       "  {'rf_clf__max_depth': 5,\n",
       "   'rf_tfidf__ngram_range': (1, 4),\n",
       "   'rf_tfidf__use_idf': False},\n",
       "  {'rf_clf__max_depth': 5,\n",
       "   'rf_tfidf__ngram_range': (1, 5),\n",
       "   'rf_tfidf__use_idf': True},\n",
       "  {'rf_clf__max_depth': 5,\n",
       "   'rf_tfidf__ngram_range': (1, 5),\n",
       "   'rf_tfidf__use_idf': False},\n",
       "  {'rf_clf__max_depth': 6,\n",
       "   'rf_tfidf__ngram_range': (1, 1),\n",
       "   'rf_tfidf__use_idf': True},\n",
       "  {'rf_clf__max_depth': 6,\n",
       "   'rf_tfidf__ngram_range': (1, 1),\n",
       "   'rf_tfidf__use_idf': False},\n",
       "  {'rf_clf__max_depth': 6,\n",
       "   'rf_tfidf__ngram_range': (1, 2),\n",
       "   'rf_tfidf__use_idf': True},\n",
       "  {'rf_clf__max_depth': 6,\n",
       "   'rf_tfidf__ngram_range': (1, 2),\n",
       "   'rf_tfidf__use_idf': False},\n",
       "  {'rf_clf__max_depth': 6,\n",
       "   'rf_tfidf__ngram_range': (1, 3),\n",
       "   'rf_tfidf__use_idf': True},\n",
       "  {'rf_clf__max_depth': 6,\n",
       "   'rf_tfidf__ngram_range': (1, 3),\n",
       "   'rf_tfidf__use_idf': False},\n",
       "  {'rf_clf__max_depth': 6,\n",
       "   'rf_tfidf__ngram_range': (1, 4),\n",
       "   'rf_tfidf__use_idf': True},\n",
       "  {'rf_clf__max_depth': 6,\n",
       "   'rf_tfidf__ngram_range': (1, 4),\n",
       "   'rf_tfidf__use_idf': False},\n",
       "  {'rf_clf__max_depth': 6,\n",
       "   'rf_tfidf__ngram_range': (1, 5),\n",
       "   'rf_tfidf__use_idf': True},\n",
       "  {'rf_clf__max_depth': 6,\n",
       "   'rf_tfidf__ngram_range': (1, 5),\n",
       "   'rf_tfidf__use_idf': False},\n",
       "  {'rf_clf__max_depth': 7,\n",
       "   'rf_tfidf__ngram_range': (1, 1),\n",
       "   'rf_tfidf__use_idf': True},\n",
       "  {'rf_clf__max_depth': 7,\n",
       "   'rf_tfidf__ngram_range': (1, 1),\n",
       "   'rf_tfidf__use_idf': False},\n",
       "  {'rf_clf__max_depth': 7,\n",
       "   'rf_tfidf__ngram_range': (1, 2),\n",
       "   'rf_tfidf__use_idf': True},\n",
       "  {'rf_clf__max_depth': 7,\n",
       "   'rf_tfidf__ngram_range': (1, 2),\n",
       "   'rf_tfidf__use_idf': False},\n",
       "  {'rf_clf__max_depth': 7,\n",
       "   'rf_tfidf__ngram_range': (1, 3),\n",
       "   'rf_tfidf__use_idf': True},\n",
       "  {'rf_clf__max_depth': 7,\n",
       "   'rf_tfidf__ngram_range': (1, 3),\n",
       "   'rf_tfidf__use_idf': False},\n",
       "  {'rf_clf__max_depth': 7,\n",
       "   'rf_tfidf__ngram_range': (1, 4),\n",
       "   'rf_tfidf__use_idf': True},\n",
       "  {'rf_clf__max_depth': 7,\n",
       "   'rf_tfidf__ngram_range': (1, 4),\n",
       "   'rf_tfidf__use_idf': False},\n",
       "  {'rf_clf__max_depth': 7,\n",
       "   'rf_tfidf__ngram_range': (1, 5),\n",
       "   'rf_tfidf__use_idf': True},\n",
       "  {'rf_clf__max_depth': 7,\n",
       "   'rf_tfidf__ngram_range': (1, 5),\n",
       "   'rf_tfidf__use_idf': False},\n",
       "  {'rf_clf__max_depth': 8,\n",
       "   'rf_tfidf__ngram_range': (1, 1),\n",
       "   'rf_tfidf__use_idf': True},\n",
       "  {'rf_clf__max_depth': 8,\n",
       "   'rf_tfidf__ngram_range': (1, 1),\n",
       "   'rf_tfidf__use_idf': False},\n",
       "  {'rf_clf__max_depth': 8,\n",
       "   'rf_tfidf__ngram_range': (1, 2),\n",
       "   'rf_tfidf__use_idf': True},\n",
       "  {'rf_clf__max_depth': 8,\n",
       "   'rf_tfidf__ngram_range': (1, 2),\n",
       "   'rf_tfidf__use_idf': False},\n",
       "  {'rf_clf__max_depth': 8,\n",
       "   'rf_tfidf__ngram_range': (1, 3),\n",
       "   'rf_tfidf__use_idf': True},\n",
       "  {'rf_clf__max_depth': 8,\n",
       "   'rf_tfidf__ngram_range': (1, 3),\n",
       "   'rf_tfidf__use_idf': False},\n",
       "  {'rf_clf__max_depth': 8,\n",
       "   'rf_tfidf__ngram_range': (1, 4),\n",
       "   'rf_tfidf__use_idf': True},\n",
       "  {'rf_clf__max_depth': 8,\n",
       "   'rf_tfidf__ngram_range': (1, 4),\n",
       "   'rf_tfidf__use_idf': False},\n",
       "  {'rf_clf__max_depth': 8,\n",
       "   'rf_tfidf__ngram_range': (1, 5),\n",
       "   'rf_tfidf__use_idf': True},\n",
       "  {'rf_clf__max_depth': 8,\n",
       "   'rf_tfidf__ngram_range': (1, 5),\n",
       "   'rf_tfidf__use_idf': False},\n",
       "  {'rf_clf__max_depth': 9,\n",
       "   'rf_tfidf__ngram_range': (1, 1),\n",
       "   'rf_tfidf__use_idf': True},\n",
       "  {'rf_clf__max_depth': 9,\n",
       "   'rf_tfidf__ngram_range': (1, 1),\n",
       "   'rf_tfidf__use_idf': False},\n",
       "  {'rf_clf__max_depth': 9,\n",
       "   'rf_tfidf__ngram_range': (1, 2),\n",
       "   'rf_tfidf__use_idf': True},\n",
       "  {'rf_clf__max_depth': 9,\n",
       "   'rf_tfidf__ngram_range': (1, 2),\n",
       "   'rf_tfidf__use_idf': False},\n",
       "  {'rf_clf__max_depth': 9,\n",
       "   'rf_tfidf__ngram_range': (1, 3),\n",
       "   'rf_tfidf__use_idf': True},\n",
       "  {'rf_clf__max_depth': 9,\n",
       "   'rf_tfidf__ngram_range': (1, 3),\n",
       "   'rf_tfidf__use_idf': False},\n",
       "  {'rf_clf__max_depth': 9,\n",
       "   'rf_tfidf__ngram_range': (1, 4),\n",
       "   'rf_tfidf__use_idf': True},\n",
       "  {'rf_clf__max_depth': 9,\n",
       "   'rf_tfidf__ngram_range': (1, 4),\n",
       "   'rf_tfidf__use_idf': False},\n",
       "  {'rf_clf__max_depth': 9,\n",
       "   'rf_tfidf__ngram_range': (1, 5),\n",
       "   'rf_tfidf__use_idf': True},\n",
       "  {'rf_clf__max_depth': 9,\n",
       "   'rf_tfidf__ngram_range': (1, 5),\n",
       "   'rf_tfidf__use_idf': False},\n",
       "  {'rf_clf__max_depth': 10,\n",
       "   'rf_tfidf__ngram_range': (1, 1),\n",
       "   'rf_tfidf__use_idf': True},\n",
       "  {'rf_clf__max_depth': 10,\n",
       "   'rf_tfidf__ngram_range': (1, 1),\n",
       "   'rf_tfidf__use_idf': False},\n",
       "  {'rf_clf__max_depth': 10,\n",
       "   'rf_tfidf__ngram_range': (1, 2),\n",
       "   'rf_tfidf__use_idf': True},\n",
       "  {'rf_clf__max_depth': 10,\n",
       "   'rf_tfidf__ngram_range': (1, 2),\n",
       "   'rf_tfidf__use_idf': False},\n",
       "  {'rf_clf__max_depth': 10,\n",
       "   'rf_tfidf__ngram_range': (1, 3),\n",
       "   'rf_tfidf__use_idf': True},\n",
       "  {'rf_clf__max_depth': 10,\n",
       "   'rf_tfidf__ngram_range': (1, 3),\n",
       "   'rf_tfidf__use_idf': False},\n",
       "  {'rf_clf__max_depth': 10,\n",
       "   'rf_tfidf__ngram_range': (1, 4),\n",
       "   'rf_tfidf__use_idf': True},\n",
       "  {'rf_clf__max_depth': 10,\n",
       "   'rf_tfidf__ngram_range': (1, 4),\n",
       "   'rf_tfidf__use_idf': False},\n",
       "  {'rf_clf__max_depth': 10,\n",
       "   'rf_tfidf__ngram_range': (1, 5),\n",
       "   'rf_tfidf__use_idf': True},\n",
       "  {'rf_clf__max_depth': 10,\n",
       "   'rf_tfidf__ngram_range': (1, 5),\n",
       "   'rf_tfidf__use_idf': False},\n",
       "  {'rf_clf__max_depth': 11,\n",
       "   'rf_tfidf__ngram_range': (1, 1),\n",
       "   'rf_tfidf__use_idf': True},\n",
       "  {'rf_clf__max_depth': 11,\n",
       "   'rf_tfidf__ngram_range': (1, 1),\n",
       "   'rf_tfidf__use_idf': False},\n",
       "  {'rf_clf__max_depth': 11,\n",
       "   'rf_tfidf__ngram_range': (1, 2),\n",
       "   'rf_tfidf__use_idf': True},\n",
       "  {'rf_clf__max_depth': 11,\n",
       "   'rf_tfidf__ngram_range': (1, 2),\n",
       "   'rf_tfidf__use_idf': False},\n",
       "  {'rf_clf__max_depth': 11,\n",
       "   'rf_tfidf__ngram_range': (1, 3),\n",
       "   'rf_tfidf__use_idf': True},\n",
       "  {'rf_clf__max_depth': 11,\n",
       "   'rf_tfidf__ngram_range': (1, 3),\n",
       "   'rf_tfidf__use_idf': False},\n",
       "  {'rf_clf__max_depth': 11,\n",
       "   'rf_tfidf__ngram_range': (1, 4),\n",
       "   'rf_tfidf__use_idf': True},\n",
       "  {'rf_clf__max_depth': 11,\n",
       "   'rf_tfidf__ngram_range': (1, 4),\n",
       "   'rf_tfidf__use_idf': False},\n",
       "  {'rf_clf__max_depth': 11,\n",
       "   'rf_tfidf__ngram_range': (1, 5),\n",
       "   'rf_tfidf__use_idf': True},\n",
       "  {'rf_clf__max_depth': 11,\n",
       "   'rf_tfidf__ngram_range': (1, 5),\n",
       "   'rf_tfidf__use_idf': False},\n",
       "  {'rf_clf__max_depth': 12,\n",
       "   'rf_tfidf__ngram_range': (1, 1),\n",
       "   'rf_tfidf__use_idf': True},\n",
       "  {'rf_clf__max_depth': 12,\n",
       "   'rf_tfidf__ngram_range': (1, 1),\n",
       "   'rf_tfidf__use_idf': False},\n",
       "  {'rf_clf__max_depth': 12,\n",
       "   'rf_tfidf__ngram_range': (1, 2),\n",
       "   'rf_tfidf__use_idf': True},\n",
       "  {'rf_clf__max_depth': 12,\n",
       "   'rf_tfidf__ngram_range': (1, 2),\n",
       "   'rf_tfidf__use_idf': False},\n",
       "  {'rf_clf__max_depth': 12,\n",
       "   'rf_tfidf__ngram_range': (1, 3),\n",
       "   'rf_tfidf__use_idf': True},\n",
       "  {'rf_clf__max_depth': 12,\n",
       "   'rf_tfidf__ngram_range': (1, 3),\n",
       "   'rf_tfidf__use_idf': False},\n",
       "  {'rf_clf__max_depth': 12,\n",
       "   'rf_tfidf__ngram_range': (1, 4),\n",
       "   'rf_tfidf__use_idf': True},\n",
       "  {'rf_clf__max_depth': 12,\n",
       "   'rf_tfidf__ngram_range': (1, 4),\n",
       "   'rf_tfidf__use_idf': False},\n",
       "  {'rf_clf__max_depth': 12,\n",
       "   'rf_tfidf__ngram_range': (1, 5),\n",
       "   'rf_tfidf__use_idf': True},\n",
       "  {'rf_clf__max_depth': 12,\n",
       "   'rf_tfidf__ngram_range': (1, 5),\n",
       "   'rf_tfidf__use_idf': False},\n",
       "  {'rf_clf__max_depth': 13,\n",
       "   'rf_tfidf__ngram_range': (1, 1),\n",
       "   'rf_tfidf__use_idf': True},\n",
       "  {'rf_clf__max_depth': 13,\n",
       "   'rf_tfidf__ngram_range': (1, 1),\n",
       "   'rf_tfidf__use_idf': False},\n",
       "  {'rf_clf__max_depth': 13,\n",
       "   'rf_tfidf__ngram_range': (1, 2),\n",
       "   'rf_tfidf__use_idf': True},\n",
       "  {'rf_clf__max_depth': 13,\n",
       "   'rf_tfidf__ngram_range': (1, 2),\n",
       "   'rf_tfidf__use_idf': False},\n",
       "  {'rf_clf__max_depth': 13,\n",
       "   'rf_tfidf__ngram_range': (1, 3),\n",
       "   'rf_tfidf__use_idf': True},\n",
       "  {'rf_clf__max_depth': 13,\n",
       "   'rf_tfidf__ngram_range': (1, 3),\n",
       "   'rf_tfidf__use_idf': False},\n",
       "  {'rf_clf__max_depth': 13,\n",
       "   'rf_tfidf__ngram_range': (1, 4),\n",
       "   'rf_tfidf__use_idf': True},\n",
       "  {'rf_clf__max_depth': 13,\n",
       "   'rf_tfidf__ngram_range': (1, 4),\n",
       "   'rf_tfidf__use_idf': False},\n",
       "  {'rf_clf__max_depth': 13,\n",
       "   'rf_tfidf__ngram_range': (1, 5),\n",
       "   'rf_tfidf__use_idf': True},\n",
       "  {'rf_clf__max_depth': 13,\n",
       "   'rf_tfidf__ngram_range': (1, 5),\n",
       "   'rf_tfidf__use_idf': False},\n",
       "  {'rf_clf__max_depth': 14,\n",
       "   'rf_tfidf__ngram_range': (1, 1),\n",
       "   'rf_tfidf__use_idf': True},\n",
       "  {'rf_clf__max_depth': 14,\n",
       "   'rf_tfidf__ngram_range': (1, 1),\n",
       "   'rf_tfidf__use_idf': False},\n",
       "  {'rf_clf__max_depth': 14,\n",
       "   'rf_tfidf__ngram_range': (1, 2),\n",
       "   'rf_tfidf__use_idf': True},\n",
       "  {'rf_clf__max_depth': 14,\n",
       "   'rf_tfidf__ngram_range': (1, 2),\n",
       "   'rf_tfidf__use_idf': False},\n",
       "  {'rf_clf__max_depth': 14,\n",
       "   'rf_tfidf__ngram_range': (1, 3),\n",
       "   'rf_tfidf__use_idf': True},\n",
       "  {'rf_clf__max_depth': 14,\n",
       "   'rf_tfidf__ngram_range': (1, 3),\n",
       "   'rf_tfidf__use_idf': False},\n",
       "  {'rf_clf__max_depth': 14,\n",
       "   'rf_tfidf__ngram_range': (1, 4),\n",
       "   'rf_tfidf__use_idf': True},\n",
       "  {'rf_clf__max_depth': 14,\n",
       "   'rf_tfidf__ngram_range': (1, 4),\n",
       "   'rf_tfidf__use_idf': False},\n",
       "  {'rf_clf__max_depth': 14,\n",
       "   'rf_tfidf__ngram_range': (1, 5),\n",
       "   'rf_tfidf__use_idf': True},\n",
       "  {'rf_clf__max_depth': 14,\n",
       "   'rf_tfidf__ngram_range': (1, 5),\n",
       "   'rf_tfidf__use_idf': False},\n",
       "  {'rf_clf__max_depth': 15,\n",
       "   'rf_tfidf__ngram_range': (1, 1),\n",
       "   'rf_tfidf__use_idf': True},\n",
       "  {'rf_clf__max_depth': 15,\n",
       "   'rf_tfidf__ngram_range': (1, 1),\n",
       "   'rf_tfidf__use_idf': False},\n",
       "  {'rf_clf__max_depth': 15,\n",
       "   'rf_tfidf__ngram_range': (1, 2),\n",
       "   'rf_tfidf__use_idf': True},\n",
       "  {'rf_clf__max_depth': 15,\n",
       "   'rf_tfidf__ngram_range': (1, 2),\n",
       "   'rf_tfidf__use_idf': False},\n",
       "  {'rf_clf__max_depth': 15,\n",
       "   'rf_tfidf__ngram_range': (1, 3),\n",
       "   'rf_tfidf__use_idf': True},\n",
       "  {'rf_clf__max_depth': 15,\n",
       "   'rf_tfidf__ngram_range': (1, 3),\n",
       "   'rf_tfidf__use_idf': False},\n",
       "  {'rf_clf__max_depth': 15,\n",
       "   'rf_tfidf__ngram_range': (1, 4),\n",
       "   'rf_tfidf__use_idf': True},\n",
       "  {'rf_clf__max_depth': 15,\n",
       "   'rf_tfidf__ngram_range': (1, 4),\n",
       "   'rf_tfidf__use_idf': False},\n",
       "  {'rf_clf__max_depth': 15,\n",
       "   'rf_tfidf__ngram_range': (1, 5),\n",
       "   'rf_tfidf__use_idf': True},\n",
       "  {'rf_clf__max_depth': 15,\n",
       "   'rf_tfidf__ngram_range': (1, 5),\n",
       "   'rf_tfidf__use_idf': False}],\n",
       " 'split0_test_score': array([0.561 , 0.561 , 0.561 , 0.561 , 0.561 , 0.561 , 0.561 , 0.561 ,\n",
       "        0.561 , 0.561 , 0.561 , 0.561 , 0.561 , 0.561 , 0.561 , 0.561 ,\n",
       "        0.561 , 0.561 , 0.561 , 0.561 , 0.561 , 0.561 , 0.561 , 0.561 ,\n",
       "        0.561 , 0.561 , 0.561 , 0.561 , 0.561 , 0.561 , 0.561 , 0.561 ,\n",
       "        0.561 , 0.561 , 0.561 , 0.561 , 0.561 , 0.561 , 0.561 , 0.561 ,\n",
       "        0.561 , 0.561 , 0.561 , 0.561 , 0.561 , 0.561 , 0.561 , 0.561 ,\n",
       "        0.561 , 0.561 , 0.561 , 0.561 , 0.561 , 0.561 , 0.561 , 0.561 ,\n",
       "        0.561 , 0.561 , 0.561 , 0.561 , 0.561 , 0.561 , 0.561 , 0.561 ,\n",
       "        0.561 , 0.5605, 0.561 , 0.561 , 0.561 , 0.561 , 0.5615, 0.561 ,\n",
       "        0.562 , 0.5605, 0.5615, 0.561 , 0.561 , 0.561 , 0.5615, 0.561 ,\n",
       "        0.561 , 0.561 , 0.562 , 0.561 , 0.562 , 0.561 , 0.561 , 0.5615,\n",
       "        0.5615, 0.5615, 0.56  , 0.5615, 0.5605, 0.5605, 0.5605, 0.561 ,\n",
       "        0.561 , 0.5615, 0.5615, 0.5615, 0.56  , 0.559 , 0.562 , 0.5615,\n",
       "        0.562 , 0.5625, 0.5615, 0.5615, 0.5615, 0.5615, 0.5615, 0.5615,\n",
       "        0.562 , 0.562 , 0.563 , 0.563 , 0.5625, 0.5615, 0.5615, 0.5615,\n",
       "        0.565 , 0.563 , 0.563 , 0.562 , 0.5625, 0.5625, 0.5625, 0.5625,\n",
       "        0.5625, 0.562 , 0.562 , 0.5625, 0.5625, 0.5635, 0.5635, 0.564 ,\n",
       "        0.5635, 0.562 , 0.5625, 0.5625, 0.565 , 0.5655, 0.565 , 0.5645,\n",
       "        0.5625, 0.564 , 0.5645, 0.563 , 0.564 , 0.5645]),\n",
       " 'split1_test_score': array([0.561 , 0.561 , 0.561 , 0.561 , 0.561 , 0.561 , 0.561 , 0.561 ,\n",
       "        0.561 , 0.561 , 0.561 , 0.561 , 0.561 , 0.561 , 0.561 , 0.561 ,\n",
       "        0.561 , 0.561 , 0.561 , 0.561 , 0.561 , 0.561 , 0.561 , 0.561 ,\n",
       "        0.561 , 0.561 , 0.561 , 0.561 , 0.561 , 0.561 , 0.561 , 0.561 ,\n",
       "        0.561 , 0.561 , 0.561 , 0.561 , 0.561 , 0.561 , 0.561 , 0.561 ,\n",
       "        0.561 , 0.561 , 0.561 , 0.561 , 0.561 , 0.561 , 0.561 , 0.561 ,\n",
       "        0.561 , 0.561 , 0.561 , 0.561 , 0.561 , 0.561 , 0.561 , 0.561 ,\n",
       "        0.561 , 0.561 , 0.561 , 0.561 , 0.5615, 0.561 , 0.561 , 0.561 ,\n",
       "        0.561 , 0.561 , 0.561 , 0.561 , 0.561 , 0.561 , 0.5615, 0.561 ,\n",
       "        0.561 , 0.561 , 0.561 , 0.561 , 0.561 , 0.561 , 0.561 , 0.561 ,\n",
       "        0.562 , 0.561 , 0.561 , 0.5615, 0.5615, 0.562 , 0.561 , 0.5615,\n",
       "        0.561 , 0.561 , 0.562 , 0.5625, 0.561 , 0.561 , 0.5615, 0.5625,\n",
       "        0.561 , 0.5615, 0.561 , 0.561 , 0.5625, 0.5615, 0.5615, 0.563 ,\n",
       "        0.562 , 0.561 , 0.5605, 0.5645, 0.561 , 0.561 , 0.563 , 0.563 ,\n",
       "        0.5645, 0.5635, 0.5645, 0.562 , 0.5625, 0.562 , 0.562 , 0.562 ,\n",
       "        0.5635, 0.565 , 0.563 , 0.562 , 0.5635, 0.564 , 0.5625, 0.563 ,\n",
       "        0.561 , 0.5615, 0.5645, 0.565 , 0.5655, 0.5645, 0.565 , 0.565 ,\n",
       "        0.5645, 0.5635, 0.5625, 0.562 , 0.565 , 0.568 , 0.567 , 0.5645,\n",
       "        0.566 , 0.565 , 0.565 , 0.5645, 0.5635, 0.563 ]),\n",
       " 'split2_test_score': array([0.561 , 0.561 , 0.561 , 0.561 , 0.561 , 0.561 , 0.561 , 0.561 ,\n",
       "        0.561 , 0.561 , 0.561 , 0.561 , 0.561 , 0.561 , 0.561 , 0.561 ,\n",
       "        0.561 , 0.561 , 0.561 , 0.561 , 0.561 , 0.561 , 0.561 , 0.561 ,\n",
       "        0.561 , 0.561 , 0.561 , 0.561 , 0.561 , 0.561 , 0.561 , 0.561 ,\n",
       "        0.561 , 0.561 , 0.561 , 0.561 , 0.561 , 0.561 , 0.561 , 0.561 ,\n",
       "        0.561 , 0.561 , 0.561 , 0.561 , 0.561 , 0.561 , 0.561 , 0.561 ,\n",
       "        0.561 , 0.5615, 0.561 , 0.561 , 0.561 , 0.561 , 0.561 , 0.561 ,\n",
       "        0.561 , 0.561 , 0.561 , 0.561 , 0.561 , 0.561 , 0.561 , 0.561 ,\n",
       "        0.561 , 0.5615, 0.561 , 0.5615, 0.5615, 0.561 , 0.5605, 0.561 ,\n",
       "        0.5605, 0.561 , 0.5615, 0.561 , 0.5615, 0.561 , 0.5615, 0.561 ,\n",
       "        0.5605, 0.56  , 0.5595, 0.561 , 0.5615, 0.5615, 0.5625, 0.5615,\n",
       "        0.5615, 0.561 , 0.5605, 0.5635, 0.5615, 0.56  , 0.5625, 0.5615,\n",
       "        0.5605, 0.5615, 0.5635, 0.561 , 0.5655, 0.564 , 0.563 , 0.561 ,\n",
       "        0.563 , 0.566 , 0.5595, 0.5585, 0.56  , 0.563 , 0.5615, 0.5665,\n",
       "        0.5645, 0.5645, 0.5675, 0.5605, 0.562 , 0.5605, 0.561 , 0.5655,\n",
       "        0.5665, 0.566 , 0.566 , 0.5645, 0.5615, 0.5585, 0.5625, 0.5625,\n",
       "        0.56  , 0.5625, 0.567 , 0.5655, 0.566 , 0.565 , 0.5635, 0.5615,\n",
       "        0.5595, 0.564 , 0.5645, 0.562 , 0.569 , 0.5665, 0.5655, 0.5675,\n",
       "        0.565 , 0.564 , 0.562 , 0.563 , 0.5625, 0.5595]),\n",
       " 'split3_test_score': array([0.561 , 0.561 , 0.561 , 0.561 , 0.561 , 0.561 , 0.561 , 0.561 ,\n",
       "        0.561 , 0.561 , 0.561 , 0.561 , 0.561 , 0.561 , 0.561 , 0.561 ,\n",
       "        0.561 , 0.561 , 0.561 , 0.561 , 0.561 , 0.561 , 0.561 , 0.561 ,\n",
       "        0.561 , 0.561 , 0.561 , 0.561 , 0.561 , 0.561 , 0.561 , 0.561 ,\n",
       "        0.561 , 0.561 , 0.561 , 0.561 , 0.561 , 0.561 , 0.561 , 0.561 ,\n",
       "        0.561 , 0.561 , 0.561 , 0.561 , 0.561 , 0.561 , 0.561 , 0.561 ,\n",
       "        0.561 , 0.561 , 0.561 , 0.561 , 0.561 , 0.561 , 0.561 , 0.561 ,\n",
       "        0.561 , 0.561 , 0.561 , 0.561 , 0.561 , 0.561 , 0.561 , 0.561 ,\n",
       "        0.561 , 0.561 , 0.561 , 0.561 , 0.561 , 0.561 , 0.561 , 0.5615,\n",
       "        0.5615, 0.562 , 0.561 , 0.561 , 0.562 , 0.561 , 0.561 , 0.561 ,\n",
       "        0.5615, 0.562 , 0.5615, 0.562 , 0.562 , 0.562 , 0.5615, 0.561 ,\n",
       "        0.561 , 0.5615, 0.562 , 0.562 , 0.563 , 0.5615, 0.5615, 0.5625,\n",
       "        0.561 , 0.5605, 0.561 , 0.5615, 0.565 , 0.5645, 0.562 , 0.5625,\n",
       "        0.5615, 0.5625, 0.562 , 0.5625, 0.562 , 0.5615, 0.5655, 0.5665,\n",
       "        0.5635, 0.562 , 0.562 , 0.5635, 0.563 , 0.561 , 0.5615, 0.5625,\n",
       "        0.5665, 0.565 , 0.5655, 0.5655, 0.563 , 0.5645, 0.5625, 0.5625,\n",
       "        0.563 , 0.5615, 0.566 , 0.57  , 0.5645, 0.5645, 0.564 , 0.565 ,\n",
       "        0.563 , 0.5645, 0.5635, 0.563 , 0.5705, 0.5675, 0.563 , 0.5655,\n",
       "        0.565 , 0.566 , 0.5635, 0.5635, 0.564 , 0.564 ]),\n",
       " 'split4_test_score': array([0.5615, 0.5615, 0.5615, 0.5615, 0.5615, 0.5615, 0.5615, 0.5615,\n",
       "        0.5615, 0.5615, 0.5615, 0.5615, 0.5615, 0.5615, 0.5615, 0.5615,\n",
       "        0.5615, 0.5615, 0.5615, 0.5615, 0.5615, 0.5615, 0.5615, 0.5615,\n",
       "        0.5615, 0.5615, 0.5615, 0.5615, 0.5615, 0.5615, 0.5615, 0.5615,\n",
       "        0.5615, 0.5615, 0.5615, 0.5615, 0.5615, 0.5615, 0.5615, 0.5615,\n",
       "        0.5615, 0.5615, 0.5615, 0.5615, 0.5615, 0.5615, 0.5615, 0.5615,\n",
       "        0.5615, 0.5615, 0.5615, 0.5615, 0.5615, 0.5615, 0.5615, 0.5615,\n",
       "        0.5615, 0.5615, 0.5615, 0.5615, 0.5615, 0.5615, 0.5615, 0.5615,\n",
       "        0.5615, 0.5615, 0.5615, 0.5615, 0.5615, 0.5615, 0.5615, 0.562 ,\n",
       "        0.562 , 0.5615, 0.562 , 0.562 , 0.5625, 0.5615, 0.5615, 0.5615,\n",
       "        0.562 , 0.562 , 0.5615, 0.562 , 0.561 , 0.5615, 0.562 , 0.5625,\n",
       "        0.5615, 0.5615, 0.5635, 0.562 , 0.564 , 0.562 , 0.5615, 0.562 ,\n",
       "        0.562 , 0.562 , 0.5625, 0.5615, 0.564 , 0.563 , 0.564 , 0.563 ,\n",
       "        0.563 , 0.5625, 0.563 , 0.562 , 0.5615, 0.5625, 0.5635, 0.564 ,\n",
       "        0.5635, 0.563 , 0.5635, 0.563 , 0.5635, 0.563 , 0.5635, 0.5635,\n",
       "        0.567 , 0.5655, 0.564 , 0.565 , 0.564 , 0.564 , 0.5635, 0.5635,\n",
       "        0.5645, 0.563 , 0.5645, 0.566 , 0.5655, 0.564 , 0.5655, 0.5655,\n",
       "        0.565 , 0.5625, 0.563 , 0.5645, 0.569 , 0.567 , 0.5665, 0.5665,\n",
       "        0.5665, 0.567 , 0.5665, 0.565 , 0.5645, 0.5635]),\n",
       " 'mean_test_score': array([0.5611, 0.5611, 0.5611, 0.5611, 0.5611, 0.5611, 0.5611, 0.5611,\n",
       "        0.5611, 0.5611, 0.5611, 0.5611, 0.5611, 0.5611, 0.5611, 0.5611,\n",
       "        0.5611, 0.5611, 0.5611, 0.5611, 0.5611, 0.5611, 0.5611, 0.5611,\n",
       "        0.5611, 0.5611, 0.5611, 0.5611, 0.5611, 0.5611, 0.5611, 0.5611,\n",
       "        0.5611, 0.5611, 0.5611, 0.5611, 0.5611, 0.5611, 0.5611, 0.5611,\n",
       "        0.5611, 0.5611, 0.5611, 0.5611, 0.5611, 0.5611, 0.5611, 0.5611,\n",
       "        0.5611, 0.5612, 0.5611, 0.5611, 0.5611, 0.5611, 0.5611, 0.5611,\n",
       "        0.5611, 0.5611, 0.5611, 0.5611, 0.5612, 0.5611, 0.5611, 0.5611,\n",
       "        0.5611, 0.5611, 0.5611, 0.5612, 0.5612, 0.5611, 0.5612, 0.5613,\n",
       "        0.5614, 0.5612, 0.5614, 0.5612, 0.5616, 0.5611, 0.5613, 0.5611,\n",
       "        0.5614, 0.5612, 0.5611, 0.5615, 0.5616, 0.5616, 0.5616, 0.5616,\n",
       "        0.5613, 0.5613, 0.5616, 0.5623, 0.562 , 0.561 , 0.5615, 0.5619,\n",
       "        0.5611, 0.5614, 0.5619, 0.5613, 0.5634, 0.5624, 0.5625, 0.5622,\n",
       "        0.5623, 0.5629, 0.5613, 0.5618, 0.5612, 0.5619, 0.563 , 0.5643,\n",
       "        0.5636, 0.563 , 0.5641, 0.5624, 0.5627, 0.5616, 0.5619, 0.563 ,\n",
       "        0.5657, 0.5649, 0.5643, 0.5638, 0.5629, 0.5627, 0.5627, 0.5628,\n",
       "        0.5622, 0.5621, 0.5648, 0.5658, 0.5648, 0.5643, 0.5643, 0.5642,\n",
       "        0.5631, 0.5633, 0.5632, 0.5628, 0.5677, 0.5669, 0.5654, 0.5657,\n",
       "        0.565 , 0.5652, 0.5643, 0.5638, 0.5637, 0.5629]),\n",
       " 'std_test_score': array([0.0002    , 0.0002    , 0.0002    , 0.0002    , 0.0002    ,\n",
       "        0.0002    , 0.0002    , 0.0002    , 0.0002    , 0.0002    ,\n",
       "        0.0002    , 0.0002    , 0.0002    , 0.0002    , 0.0002    ,\n",
       "        0.0002    , 0.0002    , 0.0002    , 0.0002    , 0.0002    ,\n",
       "        0.0002    , 0.0002    , 0.0002    , 0.0002    , 0.0002    ,\n",
       "        0.0002    , 0.0002    , 0.0002    , 0.0002    , 0.0002    ,\n",
       "        0.0002    , 0.0002    , 0.0002    , 0.0002    , 0.0002    ,\n",
       "        0.0002    , 0.0002    , 0.0002    , 0.0002    , 0.0002    ,\n",
       "        0.0002    , 0.0002    , 0.0002    , 0.0002    , 0.0002    ,\n",
       "        0.0002    , 0.0002    , 0.0002    , 0.0002    , 0.00024495,\n",
       "        0.0002    , 0.0002    , 0.0002    , 0.0002    , 0.0002    ,\n",
       "        0.0002    , 0.0002    , 0.0002    , 0.0002    , 0.0002    ,\n",
       "        0.00024495, 0.0002    , 0.0002    , 0.0002    , 0.0002    ,\n",
       "        0.00037417, 0.0002    , 0.00024495, 0.00024495, 0.0002    ,\n",
       "        0.0004    , 0.0004    , 0.0005831 , 0.0005099 , 0.00037417,\n",
       "        0.0004    , 0.0005831 , 0.0002    , 0.00024495, 0.0002    ,\n",
       "        0.0005831 , 0.00074833, 0.00086023, 0.00044721, 0.00037417,\n",
       "        0.00037417, 0.0005831 , 0.0004899 , 0.00024495, 0.00024495,\n",
       "        0.00124097, 0.00067823, 0.00130384, 0.00070711, 0.00063246,\n",
       "        0.0005831 , 0.0004899 , 0.0004899 , 0.00096954, 0.00024495,\n",
       "        0.00198494, 0.00198494, 0.00089443, 0.0008124 , 0.0006    ,\n",
       "        0.00165529, 0.0012083 , 0.00193907, 0.00067823, 0.00073485,\n",
       "        0.00148324, 0.00196469, 0.00091652, 0.00094868, 0.00188149,\n",
       "        0.00106771, 0.0005099 , 0.00086023, 0.00086023, 0.00141421,\n",
       "        0.00128841, 0.0010198 , 0.001249  , 0.00150333, 0.00086023,\n",
       "        0.00220454, 0.0004    , 0.0004    , 0.00156844, 0.0005831 ,\n",
       "        0.00169115, 0.00242074, 0.001249  , 0.0005099 , 0.0008124 ,\n",
       "        0.00143527, 0.00193391, 0.00092736, 0.00074833, 0.00092736,\n",
       "        0.00227156, 0.00086023, 0.00139284, 0.00116619, 0.0013784 ,\n",
       "        0.00116619, 0.00150333, 0.0008124 , 0.00067823, 0.001772  ]),\n",
       " 'rank_test_score': array([ 80,  80,  80,  80,  80,  80,  80,  80,  80,  80,  80,  80,  80,\n",
       "         80,  80,  80,  80,  80,  80,  80,  80,  80,  80,  80,  80,  80,\n",
       "         80,  80,  80,  80,  80,  80,  80,  80,  80,  80,  80,  80,  80,\n",
       "         80,  80,  80,  80,  80,  80,  80,  80,  80,  80,  73,  80,  80,\n",
       "         80,  80,  80,  80,  80,  80,  80,  80,  73,  80,  80,  80,  80,\n",
       "         80,  80,  73,  73,  80,  73,  65,  61,  71,  61,  73,  54,  80,\n",
       "         66,  80,  61,  73,  80,  59,  54,  52,  54,  54,  66,  66,  52,\n",
       "         41,  46, 150,  59,  47,  80,  61,  47,  66,  23,  40,  38,  43,\n",
       "         42,  30,  70,  51,  71,  47,  28,  12,  22,  27,  18,  39,  36,\n",
       "         54,  47,  28,   4,   9,  12,  19,  30,  35,  36,  33,  43,  45,\n",
       "         10,   3,  10,  12,  12,  17,  26,  24,  25,  33,   1,   2,   6,\n",
       "          4,   8,   7,  12,  19,  21,  30], dtype=int32)}"
      ]
     },
     "execution_count": 57,
     "metadata": {},
     "output_type": "execute_result"
    }
   ],
   "source": [
    "gs_clf.best_score_\n",
    "gs_clf.best_params_\n",
    "gs_clf.cv_results_"
   ]
  },
  {
   "cell_type": "code",
   "execution_count": 58,
   "id": "damaged-title",
   "metadata": {},
   "outputs": [],
   "source": [
    "#logistic regression parameters\n",
    "parameters = {'LogR_tfidf__ngram_range': [(1, 1), (1, 2),(1,3),(1,4),(1,5)],\n",
    "               'LogR_tfidf__use_idf': (True, False),\n",
    "               'LogR_tfidf__smooth_idf': (True, False)\n",
    "}"
   ]
  },
  {
   "cell_type": "code",
   "execution_count": 59,
   "id": "running-aurora",
   "metadata": {},
   "outputs": [],
   "source": [
    "import import_ipynb\n",
    "import preprocessing\n",
    "import FeatureSelection\n",
    "import numpy as np\n",
    "import pandas as pd\n",
    "import pickle\n",
    "from sklearn.feature_extraction.text import CountVectorizer\n",
    "from sklearn.feature_extraction.text import TfidfTransformer\n",
    "from sklearn.feature_extraction.text import TfidfVectorizer\n",
    "from sklearn.pipeline import Pipeline\n",
    "from sklearn.naive_bayes import MultinomialNB\n",
    "from sklearn.linear_model import  LogisticRegression\n",
    "from sklearn.model_selection import KFold\n",
    "from sklearn.metrics import confusion_matrix, f1_score, classification_report\n",
    "from sklearn.model_selection import GridSearchCV\n",
    "from sklearn.model_selection import learning_curve\n",
    "import matplotlib.pyplot as plt\n",
    "from sklearn.metrics import precision_recall_curve\n",
    "from sklearn.metrics import average_precision_score"
   ]
  },
  {
   "cell_type": "code",
   "execution_count": 60,
   "id": "typical-delay",
   "metadata": {},
   "outputs": [],
   "source": [
    "logR_pipeline = Pipeline([\n",
    "        ('LogRCV',FeatureSelection.countv),\n",
    "        ('LogR_clf',LogisticRegression())\n",
    "        ])"
   ]
  },
  {
   "cell_type": "code",
   "execution_count": 61,
   "id": "active-snake",
   "metadata": {},
   "outputs": [
    {
     "name": "stderr",
     "output_type": "stream",
     "text": [
      "/Users/jd/anaconda3/lib/python3.8/site-packages/sklearn/linear_model/_logistic.py:762: ConvergenceWarning: lbfgs failed to converge (status=1):\n",
      "STOP: TOTAL NO. of ITERATIONS REACHED LIMIT.\n",
      "\n",
      "Increase the number of iterations (max_iter) or scale the data as shown in:\n",
      "    https://scikit-learn.org/stable/modules/preprocessing.html\n",
      "Please also refer to the documentation for alternative solver options:\n",
      "    https://scikit-learn.org/stable/modules/linear_model.html#logistic-regression\n",
      "  n_iter_i = _check_optimize_result(\n"
     ]
    },
    {
     "data": {
      "text/plain": [
       "0.6013328106624853"
      ]
     },
     "execution_count": 61,
     "metadata": {},
     "output_type": "execute_result"
    }
   ],
   "source": [
    "logR_pipeline.fit(preprocessing.train_news['Statement'],preprocessing.train_news['Label'])\n",
    "predicted_LogR = logR_pipeline.predict(preprocessing.test_news['Statement'])\n",
    "np.mean(predicted_LogR == preprocessing.test_news['Label'])"
   ]
  },
  {
   "cell_type": "code",
   "execution_count": 62,
   "id": "black-contamination",
   "metadata": {},
   "outputs": [],
   "source": [
    "logR_pipeline_ngram = Pipeline([\n",
    "        ('LogR_tfidf',FeatureSelection.tfidf_ngram),\n",
    "        ('LogR_clf',LogisticRegression(penalty=\"l2\",C=1))\n",
    "        ])"
   ]
  },
  {
   "cell_type": "code",
   "execution_count": 63,
   "id": "drawn-injury",
   "metadata": {},
   "outputs": [
    {
     "data": {
      "text/plain": [
       "0.6193649549196394"
      ]
     },
     "execution_count": 63,
     "metadata": {},
     "output_type": "execute_result"
    }
   ],
   "source": [
    "logR_pipeline_ngram.fit(preprocessing.train_news['Statement'],preprocessing.train_news['Label'])\n",
    "predicted_LogR_ngram = logR_pipeline_ngram.predict(preprocessing.test_news['Statement'])\n",
    "np.mean(predicted_LogR_ngram == preprocessing.test_news['Label'])"
   ]
  },
  {
   "cell_type": "code",
   "execution_count": 64,
   "id": "gross-general",
   "metadata": {},
   "outputs": [],
   "source": [
    "gs_clf = GridSearchCV(logR_pipeline_ngram, parameters, n_jobs=-1)\n",
    "gs_clf = gs_clf.fit(preprocessing.train_news['Statement'][:10000],preprocessing.train_news['Label'][:10000])"
   ]
  },
  {
   "cell_type": "code",
   "execution_count": 65,
   "id": "conditional-column",
   "metadata": {},
   "outputs": [
    {
     "data": {
      "text/plain": [
       "{'mean_fit_time': array([  0.76590357,   0.66134672,   0.72184119,   0.61919093,\n",
       "          2.10160961,   2.26362748,   2.12580652,   2.40525055,\n",
       "          3.37625151,   3.8831171 ,   3.02975101,   4.00976324,\n",
       "          4.51745877,   4.72817316,   4.18895226,   4.64211378,\n",
       "        180.98754425,   7.5047554 ,   5.98188558,   5.6370574 ]),\n",
       " 'std_fit_time': array([4.79158727e-02, 6.39836404e-02, 2.00093737e-02, 2.21949375e-02,\n",
       "        5.63687851e-02, 6.90291107e-02, 1.10315980e-01, 1.17200171e-01,\n",
       "        2.59059382e-01, 1.58386148e-01, 2.31831827e-01, 3.64069118e-01,\n",
       "        5.09459969e-01, 3.89070229e-01, 2.42784852e-01, 3.37228497e-01,\n",
       "        8.75551489e+01, 1.82210620e+00, 3.13832739e-01, 9.49979940e-01]),\n",
       " 'mean_score_time': array([0.09439697, 0.08954191, 0.0854938 , 0.08494267, 0.143505  ,\n",
       "        0.15094042, 0.15572705, 0.15024118, 0.19267383, 0.18183122,\n",
       "        0.19741549, 0.17450609, 0.20488749, 0.22124581, 0.21966062,\n",
       "        0.19832153, 1.02426386, 0.23314347, 0.26640058, 0.19578676]),\n",
       " 'std_score_time': array([0.01295462, 0.00632162, 0.00296402, 0.00380857, 0.01134663,\n",
       "        0.02428575, 0.00669859, 0.01838839, 0.01444689, 0.01482697,\n",
       "        0.00889401, 0.01285705, 0.00439005, 0.01265266, 0.00975125,\n",
       "        0.01184254, 0.66489943, 0.0481909 , 0.05249893, 0.07700702]),\n",
       " 'param_LogR_tfidf__ngram_range': masked_array(data=[(1, 1), (1, 1), (1, 1), (1, 1), (1, 2), (1, 2), (1, 2),\n",
       "                    (1, 2), (1, 3), (1, 3), (1, 3), (1, 3), (1, 4), (1, 4),\n",
       "                    (1, 4), (1, 4), (1, 5), (1, 5), (1, 5), (1, 5)],\n",
       "              mask=[False, False, False, False, False, False, False, False,\n",
       "                    False, False, False, False, False, False, False, False,\n",
       "                    False, False, False, False],\n",
       "        fill_value='?',\n",
       "             dtype=object),\n",
       " 'param_LogR_tfidf__smooth_idf': masked_array(data=[True, True, False, False, True, True, False, False,\n",
       "                    True, True, False, False, True, True, False, False,\n",
       "                    True, True, False, False],\n",
       "              mask=[False, False, False, False, False, False, False, False,\n",
       "                    False, False, False, False, False, False, False, False,\n",
       "                    False, False, False, False],\n",
       "        fill_value='?',\n",
       "             dtype=object),\n",
       " 'param_LogR_tfidf__use_idf': masked_array(data=[True, False, True, False, True, False, True, False,\n",
       "                    True, False, True, False, True, False, True, False,\n",
       "                    True, False, True, False],\n",
       "              mask=[False, False, False, False, False, False, False, False,\n",
       "                    False, False, False, False, False, False, False, False,\n",
       "                    False, False, False, False],\n",
       "        fill_value='?',\n",
       "             dtype=object),\n",
       " 'params': [{'LogR_tfidf__ngram_range': (1, 1),\n",
       "   'LogR_tfidf__smooth_idf': True,\n",
       "   'LogR_tfidf__use_idf': True},\n",
       "  {'LogR_tfidf__ngram_range': (1, 1),\n",
       "   'LogR_tfidf__smooth_idf': True,\n",
       "   'LogR_tfidf__use_idf': False},\n",
       "  {'LogR_tfidf__ngram_range': (1, 1),\n",
       "   'LogR_tfidf__smooth_idf': False,\n",
       "   'LogR_tfidf__use_idf': True},\n",
       "  {'LogR_tfidf__ngram_range': (1, 1),\n",
       "   'LogR_tfidf__smooth_idf': False,\n",
       "   'LogR_tfidf__use_idf': False},\n",
       "  {'LogR_tfidf__ngram_range': (1, 2),\n",
       "   'LogR_tfidf__smooth_idf': True,\n",
       "   'LogR_tfidf__use_idf': True},\n",
       "  {'LogR_tfidf__ngram_range': (1, 2),\n",
       "   'LogR_tfidf__smooth_idf': True,\n",
       "   'LogR_tfidf__use_idf': False},\n",
       "  {'LogR_tfidf__ngram_range': (1, 2),\n",
       "   'LogR_tfidf__smooth_idf': False,\n",
       "   'LogR_tfidf__use_idf': True},\n",
       "  {'LogR_tfidf__ngram_range': (1, 2),\n",
       "   'LogR_tfidf__smooth_idf': False,\n",
       "   'LogR_tfidf__use_idf': False},\n",
       "  {'LogR_tfidf__ngram_range': (1, 3),\n",
       "   'LogR_tfidf__smooth_idf': True,\n",
       "   'LogR_tfidf__use_idf': True},\n",
       "  {'LogR_tfidf__ngram_range': (1, 3),\n",
       "   'LogR_tfidf__smooth_idf': True,\n",
       "   'LogR_tfidf__use_idf': False},\n",
       "  {'LogR_tfidf__ngram_range': (1, 3),\n",
       "   'LogR_tfidf__smooth_idf': False,\n",
       "   'LogR_tfidf__use_idf': True},\n",
       "  {'LogR_tfidf__ngram_range': (1, 3),\n",
       "   'LogR_tfidf__smooth_idf': False,\n",
       "   'LogR_tfidf__use_idf': False},\n",
       "  {'LogR_tfidf__ngram_range': (1, 4),\n",
       "   'LogR_tfidf__smooth_idf': True,\n",
       "   'LogR_tfidf__use_idf': True},\n",
       "  {'LogR_tfidf__ngram_range': (1, 4),\n",
       "   'LogR_tfidf__smooth_idf': True,\n",
       "   'LogR_tfidf__use_idf': False},\n",
       "  {'LogR_tfidf__ngram_range': (1, 4),\n",
       "   'LogR_tfidf__smooth_idf': False,\n",
       "   'LogR_tfidf__use_idf': True},\n",
       "  {'LogR_tfidf__ngram_range': (1, 4),\n",
       "   'LogR_tfidf__smooth_idf': False,\n",
       "   'LogR_tfidf__use_idf': False},\n",
       "  {'LogR_tfidf__ngram_range': (1, 5),\n",
       "   'LogR_tfidf__smooth_idf': True,\n",
       "   'LogR_tfidf__use_idf': True},\n",
       "  {'LogR_tfidf__ngram_range': (1, 5),\n",
       "   'LogR_tfidf__smooth_idf': True,\n",
       "   'LogR_tfidf__use_idf': False},\n",
       "  {'LogR_tfidf__ngram_range': (1, 5),\n",
       "   'LogR_tfidf__smooth_idf': False,\n",
       "   'LogR_tfidf__use_idf': True},\n",
       "  {'LogR_tfidf__ngram_range': (1, 5),\n",
       "   'LogR_tfidf__smooth_idf': False,\n",
       "   'LogR_tfidf__use_idf': False}],\n",
       " 'split0_test_score': array([0.6135, 0.617 , 0.6125, 0.617 , 0.619 , 0.617 , 0.6175, 0.617 ,\n",
       "        0.6205, 0.6175, 0.621 , 0.6175, 0.6175, 0.6155, 0.6175, 0.6155,\n",
       "        0.614 , 0.615 , 0.6115, 0.615 ]),\n",
       " 'split1_test_score': array([0.618 , 0.6205, 0.6185, 0.6205, 0.6245, 0.623 , 0.625 , 0.623 ,\n",
       "        0.6245, 0.6165, 0.624 , 0.6165, 0.623 , 0.613 , 0.6205, 0.613 ,\n",
       "        0.622 , 0.6135, 0.619 , 0.6135]),\n",
       " 'split2_test_score': array([0.5945, 0.603 , 0.596 , 0.603 , 0.6025, 0.6015, 0.605 , 0.6015,\n",
       "        0.604 , 0.6045, 0.608 , 0.6045, 0.609 , 0.603 , 0.607 , 0.603 ,\n",
       "        0.6065, 0.601 , 0.609 , 0.601 ]),\n",
       " 'split3_test_score': array([0.599 , 0.608 , 0.5995, 0.608 , 0.6105, 0.605 , 0.6105, 0.605 ,\n",
       "        0.6125, 0.606 , 0.615 , 0.606 , 0.617 , 0.611 , 0.616 , 0.611 ,\n",
       "        0.621 , 0.6115, 0.618 , 0.6115]),\n",
       " 'split4_test_score': array([0.598 , 0.6045, 0.601 , 0.6045, 0.6145, 0.606 , 0.612 , 0.606 ,\n",
       "        0.613 , 0.607 , 0.613 , 0.607 , 0.616 , 0.606 , 0.6185, 0.606 ,\n",
       "        0.6165, 0.6055, 0.618 , 0.6055]),\n",
       " 'mean_test_score': array([0.6046, 0.6106, 0.6055, 0.6106, 0.6142, 0.6105, 0.614 , 0.6105,\n",
       "        0.6149, 0.6103, 0.6162, 0.6103, 0.6165, 0.6097, 0.6159, 0.6097,\n",
       "        0.616 , 0.6093, 0.6151, 0.6093]),\n",
       " 'std_test_score': array([0.00933488, 0.0069383 , 0.00853815, 0.0069383 , 0.00748064,\n",
       "        0.00812404, 0.0067897 , 0.00812404, 0.00709507, 0.00553715,\n",
       "        0.00570614, 0.00553715, 0.00447214, 0.00457821, 0.00468402,\n",
       "        0.00457821, 0.00557674, 0.00525928, 0.00405463, 0.00525928]),\n",
       " 'rank_test_score': array([20,  9, 19,  9,  7, 11,  8, 11,  6, 13,  2, 13,  1, 15,  4, 15,  3,\n",
       "        17,  5, 17], dtype=int32)}"
      ]
     },
     "execution_count": 65,
     "metadata": {},
     "output_type": "execute_result"
    }
   ],
   "source": [
    "gs_clf.best_score_\n",
    "gs_clf.best_params_\n",
    "gs_clf.cv_results_"
   ]
  },
  {
   "cell_type": "code",
   "execution_count": 66,
   "id": "existing-refrigerator",
   "metadata": {},
   "outputs": [],
   "source": [
    "random_forest_final = Pipeline([\n",
    "        ('rf_tfidf',TfidfVectorizer(stop_words='english',ngram_range=(1,3),use_idf=True,smooth_idf=True)),\n",
    "        ('rf_clf',RandomForestClassifier(n_estimators=300,n_jobs=3,max_depth=10))\n",
    "        ])\n",
    "import import_ipynb\n",
    "import preprocessing\n",
    "import FeatureSelection\n",
    "import numpy as np\n",
    "import pandas as pd\n",
    "import pickle\n",
    "from sklearn.feature_extraction.text import CountVectorizer\n",
    "from sklearn.feature_extraction.text import TfidfTransformer\n",
    "from sklearn.feature_extraction.text import TfidfVectorizer\n",
    "from sklearn.pipeline import Pipeline\n",
    "from sklearn.naive_bayes import MultinomialNB\n",
    "from sklearn.linear_model import  LogisticRegression\n",
    "from sklearn.model_selection import KFold\n",
    "from sklearn.metrics import confusion_matrix, f1_score, classification_report\n",
    "from sklearn.model_selection import GridSearchCV\n",
    "from sklearn.model_selection import learning_curve\n",
    "import matplotlib.pyplot as plt\n",
    "from sklearn.metrics import precision_recall_curve\n",
    "from sklearn.metrics import average_precision_score"
   ]
  },
  {
   "cell_type": "code",
   "execution_count": 67,
   "id": "moving-russell",
   "metadata": {},
   "outputs": [
    {
     "name": "stdout",
     "output_type": "stream",
     "text": [
      "              precision    recall  f1-score   support\n",
      "\n",
      "       False       0.50      0.00      0.00      1169\n",
      "        True       0.54      1.00      0.70      1382\n",
      "\n",
      "    accuracy                           0.54      2551\n",
      "   macro avg       0.52      0.50      0.35      2551\n",
      "weighted avg       0.52      0.54      0.38      2551\n",
      "\n"
     ]
    }
   ],
   "source": [
    "random_forest_final.fit(preprocessing.train_news['Statement'],preprocessing.train_news['Label'])\n",
    "predicted_rf_final = random_forest_final.predict(preprocessing.test_news['Statement'])\n",
    "np.mean(predicted_rf_final == preprocessing.test_news['Label'])\n",
    "print(classification_report(preprocessing.test_news['Label'], predicted_rf_final))"
   ]
  },
  {
   "cell_type": "code",
   "execution_count": 68,
   "id": "automated-ozone",
   "metadata": {},
   "outputs": [],
   "source": [
    "logR_pipeline_final = Pipeline([\n",
    "        #('LogRCV',countV_ngram),\n",
    "        ('LogR_tfidf',TfidfVectorizer(stop_words='english',ngram_range=(1,5),use_idf=True,smooth_idf=False)),\n",
    "        ('LogR_clf',LogisticRegression(penalty=\"l2\",C=1))\n",
    "        ])"
   ]
  },
  {
   "cell_type": "code",
   "execution_count": 69,
   "id": "detailed-implementation",
   "metadata": {},
   "outputs": [
    {
     "name": "stdout",
     "output_type": "stream",
     "text": [
      "              precision    recall  f1-score   support\n",
      "\n",
      "       False       0.64      0.38      0.48      1169\n",
      "        True       0.61      0.82      0.70      1382\n",
      "\n",
      "    accuracy                           0.62      2551\n",
      "   macro avg       0.62      0.60      0.59      2551\n",
      "weighted avg       0.62      0.62      0.60      2551\n",
      "\n"
     ]
    }
   ],
   "source": [
    "logR_pipeline_final.fit(preprocessing.train_news['Statement'],preprocessing.train_news['Label'])\n",
    "predicted_LogR_final = logR_pipeline_final.predict(preprocessing.test_news['Statement'])\n",
    "np.mean(predicted_LogR_final == preprocessing.test_news['Label'])\n",
    "#accuracy = 0.62\n",
    "print(classification_report(preprocessing.test_news['Label'], predicted_LogR_final))"
   ]
  },
  {
   "cell_type": "code",
   "execution_count": 70,
   "id": "continued-remark",
   "metadata": {},
   "outputs": [],
   "source": [
    "#saving best model to the disk\n",
    "model_file = 'final_model.sav'\n",
    "pickle.dump(logR_pipeline_ngram,open(model_file,'wb'))"
   ]
  },
  {
   "cell_type": "code",
   "execution_count": 71,
   "id": "continent-tobacco",
   "metadata": {},
   "outputs": [],
   "source": [
    "import pickle"
   ]
  },
  {
   "cell_type": "code",
   "execution_count": 72,
   "id": "flexible-opposition",
   "metadata": {},
   "outputs": [
    {
     "name": "stdout",
     "output_type": "stream",
     "text": [
      "Please enter the news text you want to verify: Global warming's extreme rains threaten Hawaii's coral reefs1 sec ago.\n",
      "You entered: Global warming's extreme rains threaten Hawaii's coral reefs1 sec ago.\n"
     ]
    }
   ],
   "source": [
    "#doc_new = ['obama is running for president in 2016']\n",
    "\n",
    "var = input(\"Please enter the news text you want to verify: \")\n",
    "print(\"You entered: \" + str(var))"
   ]
  },
  {
   "cell_type": "code",
   "execution_count": 73,
   "id": "uniform-classroom",
   "metadata": {},
   "outputs": [
    {
     "name": "stdout",
     "output_type": "stream",
     "text": [
      "The given statement is  True\n",
      "The truth probability score is  0.5264706897157876\n"
     ]
    }
   ],
   "source": [
    "def detecting_fake_news(var):    \n",
    "#retrieving the best model for prediction call\n",
    "    load_model = pickle.load(open('final_model.sav', 'rb'))\n",
    "    prediction = load_model.predict([var])\n",
    "    prob = load_model.predict_proba([var])\n",
    "\n",
    "    return (print(\"The given statement is \",prediction[0]),\n",
    "        print(\"The truth probability score is \",prob[0][1]))\n",
    "\n",
    "\n",
    "if __name__ == '__main__':\n",
    "    detecting_fake_news(var)"
   ]
  },
  {
   "cell_type": "code",
   "execution_count": 74,
   "id": "smart-atlanta",
   "metadata": {},
   "outputs": [
    {
     "name": "stdout",
     "output_type": "stream",
     "text": [
      "Please enter the news text you want to verify: Body of US Capitol Officer William Evans returns to hometown.\n",
      "You entered: Body of US Capitol Officer William Evans returns to hometown.\n"
     ]
    }
   ],
   "source": [
    "var = input(\"Please enter the news text you want to verify: \")\n",
    "print(\"You entered: \" + str(var))"
   ]
  },
  {
   "cell_type": "code",
   "execution_count": 75,
   "id": "selective-fault",
   "metadata": {},
   "outputs": [
    {
     "name": "stdout",
     "output_type": "stream",
     "text": [
      "The given statement is  False\n",
      "The truth probability score is  0.46566477876830414\n"
     ]
    }
   ],
   "source": [
    "def detecting_fake_news(var):    \n",
    "#retrieving the best model for prediction call\n",
    "    load_model = pickle.load(open('final_model.sav', 'rb'))\n",
    "    prediction = load_model.predict([var])\n",
    "    prob = load_model.predict_proba([var])\n",
    "\n",
    "    return (print(\"The given statement is \",prediction[0]),\n",
    "        print(\"The truth probability score is \",prob[0][1]))\n",
    "\n",
    "\n",
    "if __name__ == '__main__':\n",
    "    detecting_fake_news(var)"
   ]
  },
  {
   "cell_type": "code",
   "execution_count": 76,
   "id": "continuing-trance",
   "metadata": {},
   "outputs": [
    {
     "name": "stdout",
     "output_type": "stream",
     "text": [
      "Please enter the news text you want to verify: US seeks greater but vaguely-defined role for India and other regional powers in Afghanistan.\n",
      "You entered: US seeks greater but vaguely-defined role for India and other regional powers in Afghanistan.\n"
     ]
    }
   ],
   "source": [
    "var = input(\"Please enter the news text you want to verify: \")\n",
    "print(\"You entered: \" + str(var))"
   ]
  },
  {
   "cell_type": "code",
   "execution_count": 77,
   "id": "exceptional-light",
   "metadata": {},
   "outputs": [
    {
     "name": "stdout",
     "output_type": "stream",
     "text": [
      "The given statement is  True\n",
      "The truth probability score is  0.6799274323209349\n"
     ]
    }
   ],
   "source": [
    "if __name__ == '__main__':\n",
    "    detecting_fake_news(var)"
   ]
  },
  {
   "cell_type": "code",
   "execution_count": 78,
   "id": "alternate-establishment",
   "metadata": {},
   "outputs": [],
   "source": [
    "def detecting_fake_news(var):    \n",
    "#retrieving the best model after making the comparison or prediction call\n",
    "    load_model = pickle.load(open('final_model.sav', 'rb'))\n",
    "    prediction = load_model.predict([var])\n",
    "    prob = load_model.predict_proba([var])\n",
    "\n",
    "    return (print(\"The news provided by the user to check is \",prediction[0]),\n",
    "        print(\"The truth probability score of the given news is \",prob[0][1]))"
   ]
  },
  {
   "cell_type": "code",
   "execution_count": 79,
   "id": "terminal-chapter",
   "metadata": {},
   "outputs": [
    {
     "name": "stdout",
     "output_type": "stream",
     "text": [
      "The news provided by the user to check is  True\n",
      "The truth probability score of the given news is  0.6799274323209349\n"
     ]
    }
   ],
   "source": [
    "if __name__ == '__main__':\n",
    "    detecting_fake_news(var)"
   ]
  },
  {
   "cell_type": "code",
   "execution_count": 80,
   "id": "electronic-fruit",
   "metadata": {},
   "outputs": [
    {
     "name": "stdout",
     "output_type": "stream",
     "text": [
      "Please enter the news text you want to verify: Derek Chauvin won't testify at murder trial in George Floyd's death.\n",
      "You entered: Derek Chauvin won't testify at murder trial in George Floyd's death.\n"
     ]
    }
   ],
   "source": [
    "var = input(\"Please enter the news text you want to verify: \")\n",
    "print(\"You entered: \" + str(var))"
   ]
  },
  {
   "cell_type": "code",
   "execution_count": 81,
   "id": "naughty-plenty",
   "metadata": {},
   "outputs": [
    {
     "name": "stdout",
     "output_type": "stream",
     "text": [
      "The news provided by the user to check is  True\n",
      "The truth probability score of the given news is  0.646480545845465\n"
     ]
    }
   ],
   "source": [
    "if __name__ == '__main__':\n",
    "    detecting_fake_news(var)"
   ]
  },
  {
   "cell_type": "code",
   "execution_count": 82,
   "id": "vietnamese-microphone",
   "metadata": {},
   "outputs": [
    {
     "name": "stdout",
     "output_type": "stream",
     "text": [
      "Please enter the news text you want to verify: Study shows vaccines carry much lower risk of blood clots than COVID\n",
      "You entered: Study shows vaccines carry much lower risk of blood clots than COVID\n"
     ]
    }
   ],
   "source": [
    "var = input(\"Please enter the news text you want to verify: \")\n",
    "print(\"You entered: \" + str(var))"
   ]
  },
  {
   "cell_type": "code",
   "execution_count": 83,
   "id": "exciting-surgery",
   "metadata": {},
   "outputs": [
    {
     "name": "stdout",
     "output_type": "stream",
     "text": [
      "The news provided by the user to check is  True\n",
      "The truth probability score of the given news is  0.5662879928080842\n"
     ]
    }
   ],
   "source": [
    "if __name__ == '__main__':\n",
    "    detecting_fake_news(var)"
   ]
  },
  {
   "cell_type": "code",
   "execution_count": 84,
   "id": "higher-granny",
   "metadata": {},
   "outputs": [
    {
     "name": "stdout",
     "output_type": "stream",
     "text": [
      "Please enter the news text you want to verify: Johnson & Johnson's COVID-19 vaccine remained in limbo on Wednesday as a U.S. health panel called for more data before making a decision\n",
      "You entered: Johnson & Johnson's COVID-19 vaccine remained in limbo on Wednesday as a U.S. health panel called for more data before making a decision\n"
     ]
    }
   ],
   "source": [
    "var = input(\"Please enter the news text you want to verify: \")\n",
    "print(\"You entered: \" + str(var))"
   ]
  },
  {
   "cell_type": "code",
   "execution_count": 85,
   "id": "endangered-september",
   "metadata": {},
   "outputs": [
    {
     "name": "stdout",
     "output_type": "stream",
     "text": [
      "The news provided by the user to check is  True\n",
      "The truth probability score of the given news is  0.5577686406348528\n"
     ]
    }
   ],
   "source": [
    "if __name__ == '__main__':\n",
    "    detecting_fake_news(var)"
   ]
  },
  {
   "cell_type": "code",
   "execution_count": 86,
   "id": "thousand-producer",
   "metadata": {},
   "outputs": [
    {
     "name": "stdout",
     "output_type": "stream",
     "text": [
      "Please enter the news text you want to verify: The United States is preparing for the possibility that a booster shot will be needed between nine to 12 months after people are initially vaccinated against COVID-19\n",
      "You entered: The United States is preparing for the possibility that a booster shot will be needed between nine to 12 months after people are initially vaccinated against COVID-19\n"
     ]
    }
   ],
   "source": [
    "var = input(\"Please enter the news text you want to verify: \")\n",
    "print(\"You entered: \" + str(var))"
   ]
  },
  {
   "cell_type": "code",
   "execution_count": 87,
   "id": "mysterious-venue",
   "metadata": {},
   "outputs": [
    {
     "name": "stdout",
     "output_type": "stream",
     "text": [
      "The news provided by the user to check is  True\n",
      "The truth probability score of the given news is  0.7577671701543341\n"
     ]
    }
   ],
   "source": [
    "if __name__ == '__main__':\n",
    "    detecting_fake_news(var)"
   ]
  },
  {
   "cell_type": "code",
   "execution_count": 88,
   "id": "careful-testimony",
   "metadata": {},
   "outputs": [],
   "source": [
    "def fake_news_detection(var1):    \n",
    "#retrieving the best model after making the comparison or prediction call\n",
    "    load_model = pickle.load(open('final_model.sav', 'rb'))\n",
    "    prediction = load_model.predict([var])\n",
    "    prob = load_model.predict_proba([var])\n",
    "\n",
    "    return (print(\"The news provided by the user to check the authenticity \",prediction[0]),\n",
    "        print(\"The truth probability score of the given news is \",prob[0][1]))"
   ]
  },
  {
   "cell_type": "code",
   "execution_count": 90,
   "id": "continuous-apache",
   "metadata": {},
   "outputs": [
    {
     "name": "stdout",
     "output_type": "stream",
     "text": [
      "Please enter the news text you want to verify: A gunman shot eight people dead and injured several others at a FedEx facility in Indianapolis before taking his own life, police said early on Friday.\n",
      "News entered: A gunman shot eight people dead and injured several others at a FedEx facility in Indianapolis before taking his own life, police said early on Friday.\n"
     ]
    }
   ],
   "source": [
    "var1 = input(\"Please enter the news text you want to verify: \")\n",
    "print(\"News entered: \" + str(var1))"
   ]
  },
  {
   "cell_type": "code",
   "execution_count": 91,
   "id": "differential-saudi",
   "metadata": {},
   "outputs": [
    {
     "name": "stdout",
     "output_type": "stream",
     "text": [
      "The news provided by the user to check the authenticity  True\n",
      "The truth probability score of the given news is  0.7577671701543341\n"
     ]
    }
   ],
   "source": [
    "if __name__ == '__main__':\n",
    "    fake_news_detection(var1)"
   ]
  },
  {
   "cell_type": "code",
   "execution_count": 92,
   "id": "magnetic-favorite",
   "metadata": {},
   "outputs": [
    {
     "name": "stdout",
     "output_type": "stream",
     "text": [
      "Please enter the news text you want to verify: Anthony Fauci, the top U.S. infectious disease doctor, hopes U.S. regulators will make a quick decision to lift a pause on the Johnson & Johnson vaccine and get that vaccine \"back on track,\" he said in an interview with Reuters on Thursday.\n",
      "News entered: Anthony Fauci, the top U.S. infectious disease doctor, hopes U.S. regulators will make a quick decision to lift a pause on the Johnson & Johnson vaccine and get that vaccine \"back on track,\" he said in an interview with Reuters on Thursday.\n"
     ]
    }
   ],
   "source": [
    "var1 = input(\"Please enter the news text you want to verify: \")\n",
    "print(\"News entered: \" + str(var1))"
   ]
  },
  {
   "cell_type": "code",
   "execution_count": 93,
   "id": "adjusted-virtue",
   "metadata": {},
   "outputs": [
    {
     "name": "stdout",
     "output_type": "stream",
     "text": [
      "The news provided by the user to check the authenticity  True\n",
      "The truth probability score of the given news is  0.7577671701543341\n"
     ]
    }
   ],
   "source": [
    "if __name__ == '__main__':\n",
    "    fake_news_detection(var1)"
   ]
  },
  {
   "cell_type": "code",
   "execution_count": 94,
   "id": "differential-facing",
   "metadata": {},
   "outputs": [
    {
     "name": "stdout",
     "output_type": "stream",
     "text": [
      "Please enter the news text you want to verify: CM Uddhav Thackeray to chair meeting with BMC to review COVID-19 situation\n",
      "News entered: CM Uddhav Thackeray to chair meeting with BMC to review COVID-19 situation\n"
     ]
    }
   ],
   "source": [
    "var1 = input(\"Please enter the news text you want to verify: \")\n",
    "print(\"News entered: \" + str(var1))"
   ]
  },
  {
   "cell_type": "code",
   "execution_count": 95,
   "id": "under-acrobat",
   "metadata": {},
   "outputs": [
    {
     "name": "stdout",
     "output_type": "stream",
     "text": [
      "The news provided by the user to check the authenticity  True\n",
      "The truth probability score of the given news is  0.7577671701543341\n"
     ]
    }
   ],
   "source": [
    "if __name__ == '__main__':\n",
    "    fake_news_detection(var1)"
   ]
  },
  {
   "cell_type": "code",
   "execution_count": 96,
   "id": "furnished-postage",
   "metadata": {},
   "outputs": [
    {
     "name": "stdout",
     "output_type": "stream",
     "text": [
      "Please enter the news text you want to verify: modi is pm of India.\n",
      "News entered: modi is pm of India.\n"
     ]
    }
   ],
   "source": [
    "var1 = input(\"Please enter the news text you want to verify: \")\n",
    "print(\"News entered: \" + str(var1))"
   ]
  },
  {
   "cell_type": "code",
   "execution_count": 97,
   "id": "residential-karaoke",
   "metadata": {},
   "outputs": [
    {
     "name": "stdout",
     "output_type": "stream",
     "text": [
      "The news provided by the user to check the authenticity  True\n",
      "The truth probability score of the given news is  0.7577671701543341\n"
     ]
    }
   ],
   "source": [
    "if __name__ == '__main__':\n",
    "    fake_news_detection(var1)"
   ]
  },
  {
   "cell_type": "code",
   "execution_count": 98,
   "id": "streaming-favor",
   "metadata": {},
   "outputs": [
    {
     "name": "stdout",
     "output_type": "stream",
     "text": [
      "Please enter the news text you want to verify: The former Minnesota police officer charged with manslaughter in the fatal shooting of a young Black man\n",
      "You entered: The former Minnesota police officer charged with manslaughter in the fatal shooting of a young Black man\n"
     ]
    }
   ],
   "source": [
    "var = input(\"Please enter the news text you want to verify: \")\n",
    "print(\"You entered: \" + str(var))"
   ]
  },
  {
   "cell_type": "code",
   "execution_count": 99,
   "id": "hungarian-xerox",
   "metadata": {},
   "outputs": [
    {
     "name": "stdout",
     "output_type": "stream",
     "text": [
      "The news provided by the user to check is  True\n",
      "The truth probability score of the given news is  0.6240128052707995\n"
     ]
    }
   ],
   "source": [
    "if __name__ == '__main__':\n",
    "    detecting_fake_news(var)"
   ]
  },
  {
   "cell_type": "code",
   "execution_count": 100,
   "id": "viral-georgia",
   "metadata": {},
   "outputs": [
    {
     "name": "stdout",
     "output_type": "stream",
     "text": [
      "Please enter the news text you want to verify: The United States is preparing for the possibility that a booster shot will be needed between nine to 12 months after people are initially vaccinated against COVID-19, a White House official said on Thursday.\n",
      "You entered: The United States is preparing for the possibility that a booster shot will be needed between nine to 12 months after people are initially vaccinated against COVID-19, a White House official said on Thursday.\n"
     ]
    }
   ],
   "source": [
    "var = input(\"Please enter the news text you want to verify: \")\n",
    "print(\"You entered: \" + str(var))"
   ]
  },
  {
   "cell_type": "code",
   "execution_count": 101,
   "id": "available-phase",
   "metadata": {},
   "outputs": [
    {
     "name": "stdout",
     "output_type": "stream",
     "text": [
      "The news provided by the user to check is  True\n",
      "The truth probability score of the given news is  0.6287866054417321\n"
     ]
    }
   ],
   "source": [
    "if __name__ == '__main__':\n",
    "    detecting_fake_news(var)"
   ]
  },
  {
   "cell_type": "code",
   "execution_count": 102,
   "id": "present-chair",
   "metadata": {},
   "outputs": [
    {
     "name": "stdout",
     "output_type": "stream",
     "text": [
      "Please enter the news text you want to verify: Donald trump os dead\n",
      "You entered: Donald trump os dead\n"
     ]
    }
   ],
   "source": [
    "var = input(\"Please enter the news text you want to verify: \")\n",
    "print(\"You entered: \" + str(var))"
   ]
  },
  {
   "cell_type": "code",
   "execution_count": 103,
   "id": "efficient-polls",
   "metadata": {},
   "outputs": [
    {
     "name": "stdout",
     "output_type": "stream",
     "text": [
      "Please enter the news text you want to verify: Donald trump is dead\n",
      "You entered: Donald trump is dead\n"
     ]
    }
   ],
   "source": [
    "var = input(\"Please enter the news text you want to verify: \")\n",
    "print(\"You entered: \" + str(var))"
   ]
  },
  {
   "cell_type": "code",
   "execution_count": 104,
   "id": "prospective-announcement",
   "metadata": {},
   "outputs": [
    {
     "name": "stdout",
     "output_type": "stream",
     "text": [
      "The news provided by the user to check is  True\n",
      "The truth probability score of the given news is  0.735198594937293\n"
     ]
    }
   ],
   "source": [
    "if __name__ == '__main__':\n",
    "    detecting_fake_news(var)"
   ]
  },
  {
   "cell_type": "code",
   "execution_count": 105,
   "id": "outdoor-damages",
   "metadata": {},
   "outputs": [
    {
     "name": "stdout",
     "output_type": "stream",
     "text": [
      "Please enter the news text you want to verify: Global warming's extreme rains threaten Hawaii's coral reefs1 sec ago.\n",
      "You entered: Global warming's extreme rains threaten Hawaii's coral reefs1 sec ago.\n"
     ]
    }
   ],
   "source": [
    "var = input(\"Please enter the news text you want to verify: \")\n",
    "print(\"You entered: \" + str(var))"
   ]
  },
  {
   "cell_type": "code",
   "execution_count": 106,
   "id": "substantial-warren",
   "metadata": {},
   "outputs": [
    {
     "name": "stdout",
     "output_type": "stream",
     "text": [
      "The news provided by the user to check is  True\n",
      "The truth probability score of the given news is  0.5264706897157876\n"
     ]
    }
   ],
   "source": [
    "if __name__ == '__main__':\n",
    "    detecting_fake_news(var)"
   ]
  },
  {
   "cell_type": "code",
   "execution_count": 107,
   "id": "informal-surname",
   "metadata": {},
   "outputs": [
    {
     "name": "stdout",
     "output_type": "stream",
     "text": [
      "Please enter the news text you want to verify: Body of US Capitol Officer William Evans returns to hometown. You entered: Body of US Capitol Officer William Evans returns to hometown.\n",
      "You entered: Body of US Capitol Officer William Evans returns to hometown. You entered: Body of US Capitol Officer William Evans returns to hometown.\n"
     ]
    }
   ],
   "source": [
    "var = input(\"Please enter the news text you want to verify: \")\n",
    "print(\"You entered: \" + str(var))"
   ]
  },
  {
   "cell_type": "code",
   "execution_count": 108,
   "id": "constitutional-victory",
   "metadata": {},
   "outputs": [
    {
     "name": "stdout",
     "output_type": "stream",
     "text": [
      "The news provided by the user to check is  False\n",
      "The truth probability score of the given news is  0.4770503526807157\n"
     ]
    }
   ],
   "source": [
    "if __name__ == '__main__':\n",
    "    detecting_fake_news(var)"
   ]
  },
  {
   "cell_type": "code",
   "execution_count": null,
   "id": "heavy-container",
   "metadata": {},
   "outputs": [],
   "source": []
  }
 ],
 "metadata": {
  "kernelspec": {
   "display_name": "Python 3",
   "language": "python",
   "name": "python3"
  },
  "language_info": {
   "codemirror_mode": {
    "name": "ipython",
    "version": 3
   },
   "file_extension": ".py",
   "mimetype": "text/x-python",
   "name": "python",
   "nbconvert_exporter": "python",
   "pygments_lexer": "ipython3",
   "version": "3.8.3"
  }
 },
 "nbformat": 4,
 "nbformat_minor": 5
}
